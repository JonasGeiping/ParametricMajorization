{
 "cells": [
  {
   "cell_type": "markdown",
   "metadata": {},
   "source": [
    "# Analysis Sparsity"
   ]
  },
  {
   "cell_type": "markdown",
   "metadata": {},
   "source": [
    "Additional computations"
   ]
  },
  {
   "cell_type": "markdown",
   "metadata": {},
   "source": [
    "## Imports:"
   ]
  },
  {
   "cell_type": "code",
   "execution_count": 1,
   "metadata": {},
   "outputs": [
    {
     "data": {
      "text/html": [
       "<script type=\"text/javascript\">window.PlotlyConfig = {MathJaxConfig: 'local'};</script><script type=\"text/javascript\">if (window.MathJax) {MathJax.Hub.Config({SVG: {font: \"STIX-Web\"}});}</script><script>requirejs.config({paths: { 'plotly': ['https://cdn.plot.ly/plotly-latest.min']},});if(!window._Plotly) {require(['plotly'],function(plotly) {window._Plotly=plotly;});}</script>"
      ],
      "text/vnd.plotly.v1+html": [
       "<script type=\"text/javascript\">window.PlotlyConfig = {MathJaxConfig: 'local'};</script><script type=\"text/javascript\">if (window.MathJax) {MathJax.Hub.Config({SVG: {font: \"STIX-Web\"}});}</script><script>requirejs.config({paths: { 'plotly': ['https://cdn.plot.ly/plotly-latest.min']},});if(!window._Plotly) {require(['plotly'],function(plotly) {window._Plotly=plotly;});}</script>"
      ]
     },
     "metadata": {},
     "output_type": "display_data"
    }
   ],
   "source": [
    "import numpy as np\n",
    "import torch\n",
    "import torch.nn.functional as F\n",
    "import torchvision\n",
    "\n",
    "import matplotlib.pyplot as plt\n",
    "import plotly.offline as ply\n",
    "import plotly.graph_objs as go\n",
    "ply.offline.init_notebook_mode(connected=True)\n",
    "\n",
    "import os\n",
    "import time\n",
    "from collections import defaultdict\n",
    "from copy import deepcopy\n",
    "import skimage.restoration as skir\n",
    "\n",
    "\n",
    "from IPython.display import clear_output\n",
    "%load_ext autoreload\n",
    "\n",
    "from PIL import Image\n",
    "import bilevelsurrogates as Sur\n",
    "\n",
    "#ymmv:\n",
    "torch.backends.cudnn.benchmark = True"
   ]
  },
  {
   "cell_type": "markdown",
   "metadata": {},
   "source": [
    "### GPU Setup:"
   ]
  },
  {
   "cell_type": "code",
   "execution_count": 2,
   "metadata": {},
   "outputs": [],
   "source": [
    "device = torch.device('cuda:3')\n",
    "dtype = torch.float"
   ]
  },
  {
   "cell_type": "code",
   "execution_count": 4,
   "metadata": {},
   "outputs": [],
   "source": [
    "#Sur.deterministic()"
   ]
  },
  {
   "cell_type": "markdown",
   "metadata": {},
   "source": [
    "## Data Generation:"
   ]
  },
  {
   "cell_type": "code",
   "execution_count": 5,
   "metadata": {},
   "outputs": [],
   "source": [
    "noise = 25/255\n",
    "clip = False\n",
    "batch_size = 200\n",
    "\n",
    "patch_cropping = torchvision.transforms.RandomCrop((64,64))\n",
    "#patch_cropping = None\n",
    "\n",
    "path = os.path.dirname(os.getcwd()) + '/data/BSDS300/' \n",
    "datasetTrain = Sur.data.BSDS300_for_denoising(path, noise_std=noise, augmentations=patch_cropping, flip=True,\n",
    "                                              grayscale=True, clip_to_realistic=clip)\n",
    "datasetTest = Sur.data.BSDS300_for_denoising(path, split = 'testing68', noise_std=noise,\n",
    "                                             augmentations=patch_cropping,\n",
    "                                             flip=True, grayscale=True, clip_to_realistic=clip)\n",
    "datasetTestFull = Sur.data.BSDS300_for_denoising(path, split = 'testing68', noise_std=noise,\n",
    "                                             augmentations=None, flip=True, grayscale=True,\n",
    "                                             clip_to_realistic=clip)\n",
    "datasetTest12 = Sur.data.Test12_for_denoising(os.path.dirname(os.getcwd()) + '/data/test12/', noise_std=noise,\n",
    "                                             augmentations=None, clip_to_realistic=clip)\n",
    "samples = Sur.data.Samples(datasetTrain, batch_size, device=device, dtype=dtype)"
   ]
  },
  {
   "cell_type": "code",
   "execution_count": 6,
   "metadata": {},
   "outputs": [],
   "source": [
    "def energy_setup(model_setup):\n",
    "    dictionary = Sur.DCTConvolution(in_channels=1, out_channels=48, kernel_size=7, mean=False,\n",
    "                                    bias=model_setup['bias']).to(**model_setup['data'])\n",
    "    torch.nn.init.orthogonal_(dictionary.weight, gain=1)\n",
    "    #torch.nn.init.uniform_(dictionary.weight,-0.1, 0.1)\n",
    "    energy = Sur.model.AnalysisSparsity(dictionary, model_setup)\n",
    "    return energy"
   ]
  },
  {
   "cell_type": "markdown",
   "metadata": {},
   "source": [
    "## Define Higher-level loss"
   ]
  },
  {
   "cell_type": "code",
   "execution_count": 7,
   "metadata": {},
   "outputs": [],
   "source": [
    "loss = Sur.loss.PSNR()"
   ]
  },
  {
   "cell_type": "markdown",
   "metadata": {},
   "source": [
    "# 1) Load Model and validate model"
   ]
  },
  {
   "cell_type": "code",
   "execution_count": 8,
   "metadata": {},
   "outputs": [],
   "source": [
    "%autoreload 2\n",
    "model_setup, training_setup, iterative_setup, state = torch.load(\n",
    "    './energies/predictive-primal_large2019-05-26.pt', map_location=device)\n",
    "model_setup['data'] = dict(device=device, dtype=dtype)\n",
    "energy = energy_setup(model_setup)\n",
    "energy.load_state_dict(state)\n",
    "energy.to(device=device, dtype=dtype)"
   ]
  },
  {
   "cell_type": "markdown",
   "metadata": {},
   "source": [
    "### Validate training loss"
   ]
  },
  {
   "cell_type": "code",
   "execution_count": 9,
   "metadata": {},
   "outputs": [
    {
     "name": "stdout",
     "output_type": "stream",
     "text": [
      "TRAINING | MSE: 0.000902 | avg PSNR for these samples: 28.320,  Time: 00:17 mins\n",
      "TRAINING | MSE: 0.000902 | avg PSNR for these samples: 28.313,  Time: 00:17 mins\n"
     ]
    }
   ],
   "source": [
    "img_denoised, _ = Sur.training_error(energy, loss, samples);\n",
    "samples.redraw_noise()\n",
    "img_denoised, _ = Sur.training_error(energy, loss, samples);"
   ]
  },
  {
   "cell_type": "code",
   "execution_count": 9,
   "metadata": {},
   "outputs": [
    {
     "name": "stdout",
     "output_type": "stream",
     "text": [
      "TRAINING | MSE: 0.000885 | avg PSNR for these samples: 28.355,  Time: 00:18 mins\n"
     ]
    }
   ],
   "source": [
    "samples.reset()\n",
    "samples.step()\n",
    "img_denoised, _ = Sur.training_error(energy, loss, samples);"
   ]
  },
  {
   "cell_type": "markdown",
   "metadata": {},
   "source": [
    "### Test "
   ]
  },
  {
   "cell_type": "code",
   "execution_count": null,
   "metadata": {},
   "outputs": [],
   "source": [
    "_, _ = Sur.testing_error(energy, loss, datasetTest);\n",
    "_, _ = Sur.testing_error(energy, loss, datasetTestFull);\n",
    "_, _ = Sur.test_twice_error(energy, loss, datasetTestFull, noise_est);\n",
    "_, _ = Sur.testing_error(energy, loss, datasetTest12, batch_size=1);"
   ]
  },
  {
   "cell_type": "code",
   "execution_count": 15,
   "metadata": {},
   "outputs": [
    {
     "data": {
      "image/png": "[encoded data removed]",
      "text/plain": [
       "<Figure size 1440x720 with 3 Axes>"
      ]
     },
     "metadata": {
      "needs_background": "light"
     },
     "output_type": "display_data"
    }
   ],
   "source": [
    "fig, axes = plt.subplots(1,3,figsize=(20, 10))\n",
    "axes[0].imshow(samples.x[0,:,:,].permute(1, 2, 0).cpu().numpy().squeeze(), cmap='gray')\n",
    "axes[1].imshow(samples.y[0,:,:,].permute(1, 2, 0).cpu().numpy().squeeze(), cmap='gray')\n",
    "axes[2].imshow(img_denoised[0,:,:,:].permute(1, 2, 0).cpu().numpy().squeeze(), cmap='gray')\n",
    "fig.canvas.draw()"
   ]
  },
  {
   "cell_type": "markdown",
   "metadata": {},
   "source": [
    "# 1a) Density function estimation"
   ]
  },
  {
   "cell_type": "markdown",
   "metadata": {},
   "source": [
    "### Noisy samples"
   ]
  },
  {
   "cell_type": "code",
   "execution_count": 39,
   "metadata": {},
   "outputs": [
    {
     "data": {
      "image/png": "[encoded data removed]",
      "text/plain": [
       "<Figure size 432x288 with 1 Axes>"
      ]
     },
     "metadata": {
      "needs_background": "light"
     },
     "output_type": "display_data"
    }
   ],
   "source": [
    "filter_responses = energy.operator(samples.y).detach()\n",
    "plt.hist(filter_responses.view(-1).cpu().numpy(), range=(-0.5, 0.5), bins = 250, density=True, log=True);"
   ]
  },
  {
   "cell_type": "markdown",
   "metadata": {},
   "source": [
    "### Clean samples"
   ]
  },
  {
   "cell_type": "code",
   "execution_count": 40,
   "metadata": {},
   "outputs": [
    {
     "data": {
      "image/png": "[encoded data removed]",
      "text/plain": [
       "<Figure size 432x288 with 1 Axes>"
      ]
     },
     "metadata": {
      "needs_background": "light"
     },
     "output_type": "display_data"
    }
   ],
   "source": [
    "filter_responses = energy.operator(samples.x).detach()\n",
    "plt.hist(filter_responses.view(-1).cpu().numpy(), range=(-0.5, 0.5), bins = 250, density=True, log=True);"
   ]
  },
  {
   "cell_type": "markdown",
   "metadata": {},
   "source": [
    "# 1b) Sort filters by importance "
   ]
  },
  {
   "cell_type": "code",
   "execution_count": 16,
   "metadata": {},
   "outputs": [
    {
     "name": "stdout",
     "output_type": "stream",
     "text": [
      "Dictionary norm is 2.271.\n"
     ]
    },
    {
     "data": {
      "image/png": "[encoded data removed]",
      "text/plain": [
       "<Figure size 1440x720 with 49 Axes>"
      ]
     },
     "metadata": {
      "needs_background": "light"
     },
     "output_type": "display_data"
    }
   ],
   "source": [
    "Sur.visualize(energy.operator)"
   ]
  },
  {
   "cell_type": "code",
   "execution_count": 17,
   "metadata": {},
   "outputs": [
    {
     "name": "stdout",
     "output_type": "stream",
     "text": [
      "TESTING | MSE: 0.000893 | avg PSNR for the given testset: 27.936, Time: 01:26 mins---\n",
      "TESTING | MSE: 0.000894 | avg PSNR for the given testset: 27.926, Time: 01:26 mins---\n",
      "TESTING | MSE: 0.000890 | avg PSNR for the given testset: 27.950, Time: 01:26 mins---\n",
      "TESTING | MSE: 0.000895 | avg PSNR for the given testset: 27.907, Time: 01:26 mins---\n",
      "TESTING | MSE: 0.000894 | avg PSNR for the given testset: 27.922, Time: 01:26 mins---\n",
      "TESTING | MSE: 0.000890 | avg PSNR for the given testset: 27.955, Time: 01:26 mins---\n",
      "TESTING | MSE: 0.000892 | avg PSNR for the given testset: 27.923, Time: 01:26 mins---\n",
      "TESTING | MSE: 0.000891 | avg PSNR for the given testset: 27.933, Time: 01:27 mins---\n",
      "TESTING | MSE: 0.000896 | avg PSNR for the given testset: 27.896, Time: 01:26 mins---\n",
      "TESTING | MSE: 0.000892 | avg PSNR for the given testset: 27.939, Time: 01:26 mins---\n",
      "TESTING | MSE: 0.000890 | avg PSNR for the given testset: 27.941, Time: 01:25 mins---\n",
      "TESTING | MSE: 0.000894 | avg PSNR for the given testset: 27.903, Time: 01:26 mins---\n",
      "TESTING | MSE: 0.000890 | avg PSNR for the given testset: 27.941, Time: 01:27 mins---\n",
      "TESTING | MSE: 0.000891 | avg PSNR for the given testset: 27.951, Time: 01:26 mins---\n",
      "TESTING | MSE: 0.000896 | avg PSNR for the given testset: 27.902, Time: 01:26 mins---\n",
      "TESTING | MSE: 0.000890 | avg PSNR for the given testset: 27.942, Time: 01:27 mins---\n",
      "TESTING | MSE: 0.000890 | avg PSNR for the given testset: 27.950, Time: 01:26 mins---\n",
      "TESTING | MSE: 0.000898 | avg PSNR for the given testset: 27.883, Time: 01:25 mins---\n",
      "TESTING | MSE: 0.000890 | avg PSNR for the given testset: 27.945, Time: 01:26 mins---\n",
      "TESTING | MSE: 0.000899 | avg PSNR for the given testset: 27.884, Time: 01:26 mins---\n",
      "TESTING | MSE: 0.000895 | avg PSNR for the given testset: 27.902, Time: 01:26 mins---\n",
      "TESTING | MSE: 0.000890 | avg PSNR for the given testset: 27.942, Time: 01:26 mins---\n",
      "TESTING | MSE: 0.000894 | avg PSNR for the given testset: 27.908, Time: 01:25 mins---\n",
      "TESTING | MSE: 0.000891 | avg PSNR for the given testset: 27.942, Time: 01:25 mins---\n",
      "TESTING | MSE: 0.000892 | avg PSNR for the given testset: 27.927, Time: 01:26 mins---\n",
      "TESTING | MSE: 0.000895 | avg PSNR for the given testset: 27.909, Time: 01:26 mins---\n",
      "TESTING | MSE: 0.000893 | avg PSNR for the given testset: 27.934, Time: 01:26 mins---\n",
      "TESTING | MSE: 0.000891 | avg PSNR for the given testset: 27.940, Time: 01:26 mins---\n",
      "TESTING | MSE: 0.000892 | avg PSNR for the given testset: 27.926, Time: 01:25 mins---\n",
      "TESTING | MSE: 0.000895 | avg PSNR for the given testset: 27.915, Time: 01:26 mins---\n",
      "TESTING | MSE: 0.000895 | avg PSNR for the given testset: 27.908, Time: 01:27 mins---\n",
      "TESTING | MSE: 0.000889 | avg PSNR for the given testset: 27.948, Time: 01:26 mins---\n",
      "TESTING | MSE: 0.000892 | avg PSNR for the given testset: 27.933, Time: 01:26 mins---\n",
      "TESTING | MSE: 0.000898 | avg PSNR for the given testset: 27.880, Time: 01:26 mins---\n",
      "TESTING | MSE: 0.000893 | avg PSNR for the given testset: 27.921, Time: 01:26 mins---\n",
      "TESTING | MSE: 0.000900 | avg PSNR for the given testset: 27.879, Time: 01:27 mins---\n",
      "TESTING | MSE: 0.000898 | avg PSNR for the given testset: 27.893, Time: 01:26 mins---\n",
      "TESTING | MSE: 0.000891 | avg PSNR for the given testset: 27.950, Time: 01:26 mins---\n",
      "TESTING | MSE: 0.000891 | avg PSNR for the given testset: 27.930, Time: 01:26 mins---\n",
      "TESTING | MSE: 0.000904 | avg PSNR for the given testset: 27.845, Time: 01:26 mins---\n",
      "TESTING | MSE: 0.000892 | avg PSNR for the given testset: 27.937, Time: 01:26 mins---\n",
      "TESTING | MSE: 0.000890 | avg PSNR for the given testset: 27.952, Time: 01:26 mins---\n",
      "TESTING | MSE: 0.000893 | avg PSNR for the given testset: 27.918, Time: 01:26 mins---\n",
      "TESTING | MSE: 0.000893 | avg PSNR for the given testset: 27.930, Time: 01:26 mins---\n",
      "TESTING | MSE: 0.000892 | avg PSNR for the given testset: 27.933, Time: 01:26 mins---\n",
      "TESTING | MSE: 0.000891 | avg PSNR for the given testset: 27.943, Time: 01:25 mins---\n",
      "TESTING | MSE: 0.000894 | avg PSNR for the given testset: 27.913, Time: 01:26 mins---\n",
      "TESTING | MSE: 0.000894 | avg PSNR for the given testset: 27.913, Time: 01:26 mins---\n"
     ]
    }
   ],
   "source": [
    "filters = energy.operator.weight.clone().detach()\n",
    "psnr_vals = []\n",
    "for i in range(filters.shape[0]):\n",
    "    energy.operator.weight[i, :, :, :].zero_()\n",
    "    #_, metric = Sur.training_error(energy, loss, samples)\n",
    "    _, metric = Sur.testing_error(energy, loss, datasetTestFull)\n",
    "    psnr_vals.append(metric)\n",
    "    energy.operator.weight[i, :, :, :] = filters[i, :, :, :].clone()\n",
    "indices = np.argsort(psnr_vals)\n",
    "energy.operator.weight = torch.nn.Parameter(energy.operator.weight[indices, :, :, :])"
   ]
  },
  {
   "cell_type": "code",
   "execution_count": 18,
   "metadata": {},
   "outputs": [
    {
     "name": "stdout",
     "output_type": "stream",
     "text": [
      "Dictionary norm is 2.271.\n"
     ]
    },
    {
     "data": {
      "image/png": "[encoded data removed]",
      "text/plain": [
       "<Figure size 1440x720 with 49 Axes>"
      ]
     },
     "metadata": {
      "needs_background": "light"
     },
     "output_type": "display_data"
    }
   ],
   "source": [
    "Sur.visualize(energy.operator)"
   ]
  },
  {
   "cell_type": "markdown",
   "metadata": {},
   "source": [
    "# 1c) Remove filters by order of importance"
   ]
  },
  {
   "cell_type": "code",
   "execution_count": 19,
   "metadata": {},
   "outputs": [
    {
     "name": "stdout",
     "output_type": "stream",
     "text": [
      "TESTING | MSE: 0.000888 | avg PSNR for the given testset: 27.961, Time: 01:25 mins---\n",
      "TESTING | MSE: 0.000890 | avg PSNR for the given testset: 27.945, Time: 01:25 mins---\n",
      "TESTING | MSE: 0.000893 | avg PSNR for the given testset: 27.926, Time: 01:27 mins---\n",
      "TESTING | MSE: 0.000893 | avg PSNR for the given testset: 27.913, Time: 01:26 mins---\n",
      "TESTING | MSE: 0.000895 | avg PSNR for the given testset: 27.892, Time: 01:26 mins---\n",
      "TESTING | MSE: 0.000898 | avg PSNR for the given testset: 27.875, Time: 01:25 mins---\n",
      "TESTING | MSE: 0.000900 | avg PSNR for the given testset: 27.845, Time: 01:25 mins---\n",
      "TESTING | MSE: 0.000905 | avg PSNR for the given testset: 27.812, Time: 01:25 mins---\n",
      "TESTING | MSE: 0.000915 | avg PSNR for the given testset: 27.745, Time: 01:24 mins---\n",
      "TESTING | MSE: 0.000933 | avg PSNR for the given testset: 27.631, Time: 01:24 mins---\n",
      "TESTING | MSE: 0.000962 | avg PSNR for the given testset: 27.472, Time: 01:24 mins---\n",
      "TESTING | MSE: 0.001016 | avg PSNR for the given testset: 27.193, Time: 01:24 mins---\n",
      "TESTING | MSE: 0.001029 | avg PSNR for the given testset: 27.125, Time: 01:24 mins---\n",
      "TESTING | MSE: 0.001086 | avg PSNR for the given testset: 26.851, Time: 01:24 mins---\n",
      "TESTING | MSE: 0.001117 | avg PSNR for the given testset: 26.714, Time: 01:24 mins---\n",
      "TESTING | MSE: 0.001176 | avg PSNR for the given testset: 26.465, Time: 01:24 mins---\n",
      "TESTING | MSE: 0.001186 | avg PSNR for the given testset: 26.425, Time: 01:24 mins---\n",
      "TESTING | MSE: 0.001197 | avg PSNR for the given testset: 26.376, Time: 01:24 mins---\n",
      "TESTING | MSE: 0.001210 | avg PSNR for the given testset: 26.320, Time: 01:24 mins---\n",
      "TESTING | MSE: 0.001254 | avg PSNR for the given testset: 26.148, Time: 01:24 mins---\n",
      "TESTING | MSE: 0.001272 | avg PSNR for the given testset: 26.079, Time: 01:24 mins---\n",
      "TESTING | MSE: 0.001296 | avg PSNR for the given testset: 25.989, Time: 01:24 mins---\n",
      "TESTING | MSE: 0.001373 | avg PSNR for the given testset: 25.722, Time: 01:24 mins---\n",
      "TESTING | MSE: 0.001486 | avg PSNR for the given testset: 25.359, Time: 01:24 mins---\n",
      "TESTING | MSE: 0.001552 | avg PSNR for the given testset: 25.157, Time: 01:24 mins---\n",
      "TESTING | MSE: 0.001631 | avg PSNR for the given testset: 24.934, Time: 01:24 mins---\n",
      "TESTING | MSE: 0.001661 | avg PSNR for the given testset: 24.851, Time: 01:24 mins---\n",
      "TESTING | MSE: 0.001795 | avg PSNR for the given testset: 24.503, Time: 01:24 mins---\n",
      "TESTING | MSE: 0.001839 | avg PSNR for the given testset: 24.394, Time: 01:24 mins---\n",
      "TESTING | MSE: 0.001904 | avg PSNR for the given testset: 24.238, Time: 01:24 mins---\n",
      "TESTING | MSE: 0.001991 | avg PSNR for the given testset: 24.038, Time: 01:24 mins---\n",
      "TESTING | MSE: 0.002029 | avg PSNR for the given testset: 23.953, Time: 01:24 mins---\n",
      "TESTING | MSE: 0.002152 | avg PSNR for the given testset: 23.694, Time: 01:23 mins---\n",
      "TESTING | MSE: 0.002209 | avg PSNR for the given testset: 23.579, Time: 01:17 mins---\n",
      "TESTING | MSE: 0.002289 | avg PSNR for the given testset: 23.419, Time: 01:12 mins---\n",
      "TESTING | MSE: 0.002376 | avg PSNR for the given testset: 23.255, Time: 01:08 mins---\n",
      "TESTING | MSE: 0.002439 | avg PSNR for the given testset: 23.141, Time: 01:05 mins---\n",
      "TESTING | MSE: 0.002616 | avg PSNR for the given testset: 22.833, Time: 01:01 mins---\n",
      "TESTING | MSE: 0.002798 | avg PSNR for the given testset: 22.541, Time: 00:58 mins---\n",
      "TESTING | MSE: 0.002910 | avg PSNR for the given testset: 22.368, Time: 00:54 mins---\n",
      "TESTING | MSE: 0.003148 | avg PSNR for the given testset: 22.026, Time: 00:43 mins---\n",
      "TESTING | MSE: 0.003288 | avg PSNR for the given testset: 21.836, Time: 00:42 mins---\n",
      "TESTING | MSE: 0.003405 | avg PSNR for the given testset: 21.683, Time: 00:39 mins---\n",
      "TESTING | MSE: 0.003577 | avg PSNR for the given testset: 21.469, Time: 00:38 mins---\n",
      "TESTING | MSE: 0.003810 | avg PSNR for the given testset: 21.194, Time: 00:37 mins---\n",
      "TESTING | MSE: 0.004068 | avg PSNR for the given testset: 20.910, Time: 00:36 mins---\n",
      "TESTING | MSE: 0.004221 | avg PSNR for the given testset: 20.749, Time: 00:36 mins---\n"
     ]
    },
    {
     "name": "stderr",
     "output_type": "stream",
     "text": [
      "/home/vsa_jonas/Dropbox/Documents_Hyperion/Python/BilevelSurrogates/bilevelsurrogates/subfunctions/normest.py:38: UserWarning:\n",
      "\n",
      "Normest did not convergence to tolerance 1e-07 within 5000 iterations. Final tol was nan\n",
      "\n"
     ]
    },
    {
     "name": "stdout",
     "output_type": "stream",
     "text": [
      "TESTING | MSE: nan | avg PSNR for the given testset: nan, Time: 01:39 mins---\n"
     ]
    }
   ],
   "source": [
    "filters = energy.operator.weight.clone().detach()\n",
    "psnr_vals = []\n",
    "for i in reversed(range(filters.shape[0])):\n",
    "    energy.operator.weight[i, :, :, :].zero_()\n",
    "    #_, metric = Sur.training_error(energy, loss, samples)\n",
    "    _, metric = Sur.testing_error(energy, loss, datasetTestFull)\n",
    "    psnr_vals.append(metric)\n",
    "indices = np.argsort(psnr_vals)\n",
    "\n",
    "# Return filters\n",
    "energy.operator.weight = torch.nn.Parameter(energy.operator.weight[indices, :, :, :])"
   ]
  },
  {
   "cell_type": "code",
   "execution_count": 20,
   "metadata": {},
   "outputs": [
    {
     "data": {
      "application/vnd.plotly.v1+json": {
       "config": {
        "linkText": "Export to plot.ly",
        "plotlyServerURL": "https://plot.ly",
        "showLink": false
       },
       "data": [
        {
         "name": "PSNR",
         "type": "scatter",
         "uid": "70ed80c9-29ad-4e99-82ac-7eb8a904d167",
         "y": [
          27.961323764589096,
          27.945317533281113,
          27.925787369410198,
          27.913349045647514,
          27.89153085814582,
          27.8745403819614,
          27.844605604807537,
          27.81153631210327,
          27.744841390185886,
          27.63089871406555,
          27.47155910068088,
          27.193348593182034,
          27.1246239344279,
          26.851372904247707,
          26.71383113331265,
          26.46538699997796,
          26.424799071417915,
          26.37645806206597,
          26.319500764211018,
          26.147851361168755,
          26.079386234283447,
          25.989042308595444,
          25.722151041030884,
          25.359497997495865,
          25.157336923811172,
          24.934314515855576,
          24.850515551037258,
          24.503166410658096,
          24.393762323591446,
          24.237975067562527,
          24.03808018896315,
          23.952907933129204,
          23.69428515434265,
          23.578515238232082,
          23.419383260938858,
          23.255290057924057,
          23.140897750854492,
          22.833070039749146,
          22.540548880894978,
          22.368042442533707,
          22.025528536902534,
          21.836037900712753,
          21.68335639105903,
          21.46885559293959,
          21.19376712375217,
          20.90957424375746,
          20.749237563874985,
          null
         ]
        }
       ],
       "layout": {
        "title": {
         "text": "PSNR value after removing the n-th least important filter"
        },
        "xaxis": {
         "automargin": true,
         "autorange": true,
         "title": {
          "text": "Iterations"
         },
         "type": "linear"
        },
        "yaxis": {
         "automargin": true,
         "autorange": true,
         "title": {
          "text": "PSNR"
         },
         "type": "log"
        }
       }
      },
      "text/html": [
       "<div id=\"6a8dcb30-ee49-4be6-bf92-6cda863a36d9\" style=\"height: 525px; width: 100%;\" class=\"plotly-graph-div\"></div><script type=\"text/javascript\">require([\"plotly\"], function(Plotly) { window.PLOTLYENV=window.PLOTLYENV || {};window.PLOTLYENV.BASE_URL=\"https://plot.ly\";Plotly.newPlot(\"6a8dcb30-ee49-4be6-bf92-6cda863a36d9\", [{\"name\": \"PSNR\", \"y\": [27.961323764589096, 27.945317533281113, 27.925787369410198, 27.913349045647514, 27.89153085814582, 27.8745403819614, 27.844605604807537, 27.81153631210327, 27.744841390185886, 27.63089871406555, 27.47155910068088, 27.193348593182034, 27.1246239344279, 26.851372904247707, 26.71383113331265, 26.46538699997796, 26.424799071417915, 26.37645806206597, 26.319500764211018, 26.147851361168755, 26.079386234283447, 25.989042308595444, 25.722151041030884, 25.359497997495865, 25.157336923811172, 24.934314515855576, 24.850515551037258, 24.503166410658096, 24.393762323591446, 24.237975067562527, 24.03808018896315, 23.952907933129204, 23.69428515434265, 23.578515238232082, 23.419383260938858, 23.255290057924057, 23.140897750854492, 22.833070039749146, 22.540548880894978, 22.368042442533707, 22.025528536902534, 21.836037900712753, 21.68335639105903, 21.46885559293959, 21.19376712375217, 20.90957424375746, 20.749237563874985, null], \"type\": \"scatter\", \"uid\": \"70ed80c9-29ad-4e99-82ac-7eb8a904d167\"}], {\"title\": {\"text\": \"PSNR value after removing the n-th least important filter\"}, \"xaxis\": {\"automargin\": true, \"autorange\": true, \"title\": {\"text\": \"Iterations\"}, \"type\": \"linear\"}, \"yaxis\": {\"automargin\": true, \"autorange\": true, \"title\": {\"text\": \"PSNR\"}, \"type\": \"log\"}}, {\"showLink\": false, \"linkText\": \"Export to plot.ly\", \"plotlyServerURL\": \"https://plot.ly\"})});</script><script type=\"text/javascript\">window.addEventListener(\"resize\", function(){window._Plotly.Plots.resize(document.getElementById(\"6a8dcb30-ee49-4be6-bf92-6cda863a36d9\"));});</script>"
      ],
      "text/vnd.plotly.v1+html": [
       "<div id=\"6a8dcb30-ee49-4be6-bf92-6cda863a36d9\" style=\"height: 525px; width: 100%;\" class=\"plotly-graph-div\"></div><script type=\"text/javascript\">require([\"plotly\"], function(Plotly) { window.PLOTLYENV=window.PLOTLYENV || {};window.PLOTLYENV.BASE_URL=\"https://plot.ly\";Plotly.newPlot(\"6a8dcb30-ee49-4be6-bf92-6cda863a36d9\", [{\"name\": \"PSNR\", \"y\": [27.961323764589096, 27.945317533281113, 27.925787369410198, 27.913349045647514, 27.89153085814582, 27.8745403819614, 27.844605604807537, 27.81153631210327, 27.744841390185886, 27.63089871406555, 27.47155910068088, 27.193348593182034, 27.1246239344279, 26.851372904247707, 26.71383113331265, 26.46538699997796, 26.424799071417915, 26.37645806206597, 26.319500764211018, 26.147851361168755, 26.079386234283447, 25.989042308595444, 25.722151041030884, 25.359497997495865, 25.157336923811172, 24.934314515855576, 24.850515551037258, 24.503166410658096, 24.393762323591446, 24.237975067562527, 24.03808018896315, 23.952907933129204, 23.69428515434265, 23.578515238232082, 23.419383260938858, 23.255290057924057, 23.140897750854492, 22.833070039749146, 22.540548880894978, 22.368042442533707, 22.025528536902534, 21.836037900712753, 21.68335639105903, 21.46885559293959, 21.19376712375217, 20.90957424375746, 20.749237563874985, null], \"type\": \"scatter\", \"uid\": \"70ed80c9-29ad-4e99-82ac-7eb8a904d167\"}], {\"title\": {\"text\": \"PSNR value after removing the n-th least important filter\"}, \"xaxis\": {\"automargin\": true, \"autorange\": true, \"title\": {\"text\": \"Iterations\"}, \"type\": \"linear\"}, \"yaxis\": {\"automargin\": true, \"autorange\": true, \"title\": {\"text\": \"PSNR\"}, \"type\": \"log\"}}, {\"showLink\": false, \"linkText\": \"Export to plot.ly\", \"plotlyServerURL\": \"https://plot.ly\"})});</script><script type=\"text/javascript\">window.addEventListener(\"resize\", function(){window._Plotly.Plots.resize(document.getElementById(\"6a8dcb30-ee49-4be6-bf92-6cda863a36d9\"));});</script>"
      ]
     },
     "metadata": {},
     "output_type": "display_data"
    }
   ],
   "source": [
    "data = [go.Scatter(y=psnr_vals, name = 'PSNR')]\n",
    "layout = go.Layout(\n",
    "         xaxis=dict(\n",
    "             type='linear',\n",
    "             autorange=True,\n",
    "             title='Iterations',\n",
    "             automargin=True\n",
    "             ),\n",
    "         yaxis=dict(\n",
    "             type='linear',\n",
    "             autorange  = True,\n",
    "             title='PSNR',\n",
    "             automargin=True\n",
    "         ),\n",
    "         title = (f'PSNR value after removing the n-th least important filter')\n",
    ")\n",
    "fig = go.Figure(data=data, layout=layout)\n",
    "ply.iplot(fig)"
   ]
  },
  {
   "cell_type": "markdown",
   "metadata": {},
   "source": [
    "# 1d) Run filters through a non-convex model"
   ]
  },
  {
   "cell_type": "code",
   "execution_count": 35,
   "metadata": {},
   "outputs": [],
   "source": [
    "nc_setup = deepcopy(model_setup)\n",
    "nc_setup['alpha'] = 0.01\n",
    "nc_setup['epsilon'] = 1\n",
    "nc_setup['bias'] = False\n",
    "nc_setup['norm'] = 'aniso'\n",
    "# Possible regularizers are\n",
    "# 'huber', 'l1', 'log-square', 'sqrt', log-abs\n",
    "nc_setup['regularizer'] = 'log-abs' \n",
    "nc_setup['learn_scales'] = False\n",
    "nc_energy = Sur.model.AnalysisNonconvex(energy.operator, nc_setup)"
   ]
  },
  {
   "cell_type": "code",
   "execution_count": 36,
   "metadata": {},
   "outputs": [
    {
     "name": "stdout",
     "output_type": "stream",
     "text": [
      "TRAINING | MSE: 0.000905 | avg PSNR for these samples: 28.259,  Time: 03:46 mins\n"
     ]
    }
   ],
   "source": [
    "img_denoised, _ = Sur.training_error(nc_energy, loss, samples);"
   ]
  },
  {
   "cell_type": "markdown",
   "metadata": {},
   "source": [
    "# 2) Compare with optimal TV"
   ]
  },
  {
   "cell_type": "code",
   "execution_count": 16,
   "metadata": {},
   "outputs": [
    {
     "name": "stdout",
     "output_type": "stream",
     "text": [
      "Current alpha is 0.049019607843137254\n",
      "Average psnr of denoised image is 26.63237494468689\n",
      "Current alpha is 0.04961984793917567\n",
      "Average psnr of denoised image is 26.683459968566893\n",
      "Current alpha is 0.050220088035214085\n",
      "Average psnr of denoised image is 26.733455085754393\n",
      "Current alpha is 0.0508203281312525\n",
      "Average psnr of denoised image is 26.782364015579223\n",
      "Current alpha is 0.051420568227290915\n",
      "Average psnr of denoised image is 26.830165691375733\n",
      "Current alpha is 0.05202080832332933\n",
      "Average psnr of denoised image is 26.876861925125123\n",
      "Current alpha is 0.052621048419367746\n",
      "Average psnr of denoised image is 26.922443313598635\n",
      "Current alpha is 0.05322128851540616\n",
      "Average psnr of denoised image is 26.966912212371827\n",
      "Current alpha is 0.053821528611444576\n",
      "Average psnr of denoised image is 27.01026651382446\n",
      "Current alpha is 0.05442176870748299\n",
      "Average psnr of denoised image is 27.052496061325073\n",
      "Current alpha is 0.055022008803521406\n",
      "Average psnr of denoised image is 27.093607845306398\n",
      "Current alpha is 0.05562224889955982\n",
      "Average psnr of denoised image is 27.133581142425538\n",
      "Current alpha is 0.05622248899559824\n",
      "Average psnr of denoised image is 27.17241069793701\n",
      "Current alpha is 0.05682272909163665\n",
      "Average psnr of denoised image is 27.210100917816163\n",
      "Current alpha is 0.05742296918767507\n",
      "Average psnr of denoised image is 27.246663904190065\n",
      "Current alpha is 0.05802320928371348\n",
      "Average psnr of denoised image is 27.28210252761841\n",
      "Current alpha is 0.0586234493797519\n",
      "Average psnr of denoised image is 27.316409425735472\n",
      "Current alpha is 0.05922368947579031\n",
      "Average psnr of denoised image is 27.3495862865448\n",
      "Current alpha is 0.05982392957182873\n",
      "Average psnr of denoised image is 27.381641035079955\n",
      "Current alpha is 0.06042416966786714\n",
      "Average psnr of denoised image is 27.41259171485901\n",
      "Current alpha is 0.06102440976390556\n",
      "Average psnr of denoised image is 27.442433519363405\n",
      "Current alpha is 0.061624649859943974\n",
      "Average psnr of denoised image is 27.471167898178102\n",
      "Current alpha is 0.06222488995598239\n",
      "Average psnr of denoised image is 27.498794355392455\n",
      "Current alpha is 0.06282513005202081\n",
      "Average psnr of denoised image is 27.525332279205323\n",
      "Current alpha is 0.06342537014805923\n",
      "Average psnr of denoised image is 27.55077127456665\n",
      "Current alpha is 0.06402561024409764\n",
      "Average psnr of denoised image is 27.575136613845824\n",
      "Current alpha is 0.06462585034013606\n",
      "Average psnr of denoised image is 27.598436059951784\n",
      "Current alpha is 0.06522609043617447\n",
      "Average psnr of denoised image is 27.620679607391356\n",
      "Current alpha is 0.06582633053221289\n",
      "Average psnr of denoised image is 27.641884422302248\n",
      "Current alpha is 0.0664265706282513\n",
      "Average psnr of denoised image is 27.662064237594606\n",
      "Current alpha is 0.06702681072428972\n",
      "Average psnr of denoised image is 27.681228942871094\n",
      "Current alpha is 0.06762705082032813\n",
      "Average psnr of denoised image is 27.699387016296388\n",
      "Current alpha is 0.06822729091636655\n",
      "Average psnr of denoised image is 27.716544694900513\n",
      "Current alpha is 0.06882753101240496\n",
      "Average psnr of denoised image is 27.732734451293947\n",
      "Current alpha is 0.06942777110844338\n",
      "Average psnr of denoised image is 27.747962636947634\n",
      "Current alpha is 0.0700280112044818\n",
      "Average psnr of denoised image is 27.762245464324952\n",
      "Current alpha is 0.07062825130052021\n",
      "Average psnr of denoised image is 27.77560070991516\n",
      "Current alpha is 0.07122849139655862\n",
      "Average psnr of denoised image is 27.788052444458007\n",
      "Current alpha is 0.07182873149259704\n",
      "Average psnr of denoised image is 27.799617061614992\n",
      "Current alpha is 0.07242897158863545\n",
      "Average psnr of denoised image is 27.810311050415038\n",
      "Current alpha is 0.07302921168467387\n",
      "Average psnr of denoised image is 27.820141048431395\n",
      "Current alpha is 0.07362945178071229\n",
      "Average psnr of denoised image is 27.82914281845093\n",
      "Current alpha is 0.0742296918767507\n",
      "Average psnr of denoised image is 27.837322225570677\n",
      "Current alpha is 0.07482993197278912\n",
      "Average psnr of denoised image is 27.844699535369873\n",
      "Current alpha is 0.07543017206882753\n",
      "Average psnr of denoised image is 27.85128481864929\n",
      "Current alpha is 0.07603041216486595\n",
      "Average psnr of denoised image is 27.85711350440979\n",
      "Current alpha is 0.07663065226090436\n",
      "Average psnr of denoised image is 27.86219882965088\n",
      "Current alpha is 0.07723089235694278\n",
      "Average psnr of denoised image is 27.866559133529663\n",
      "Current alpha is 0.07783113245298119\n",
      "Average psnr of denoised image is 27.8701873588562\n",
      "Current alpha is 0.0784313725490196\n",
      "Average psnr of denoised image is 27.873102598190307\n"
     ]
    }
   ],
   "source": [
    "tv_setup = deepcopy(model_setup)\n",
    "tv_setup['norm'] = 'iso2'\n",
    "\n",
    "# Define Model\n",
    "grad = Sur.Convolution(1, 2, 3).initialize_gradient().to(device)\n",
    "grad.weight.requires_grad = False\n",
    "tv_energy = Sur.model.AnalysisSparsity(grad, tv_setup)\n",
    "\n",
    "\n",
    "def grid_search(img_noisy):\n",
    "    psnr_vals = []\n",
    "    alpha_range = np.linspace(0.5*noise,0.8*noise,50)\n",
    "    for alpha_test in alpha_range:\n",
    "        tv_energy.setup['alpha'] = alpha_test\n",
    "        output = tv_energy.minimize(samples.y)\n",
    "        psnr = Sur.psnr_compute(output, samples.x)\n",
    "        psnr_vals.append(psnr)\n",
    "        print(f'Current alpha is {alpha_test}')\n",
    "        print(f'Average psnr of denoised image is {psnr}')\n",
    "    alpha = alpha_range[np.argmax(psnr_vals)]\n",
    "    return alpha\n",
    "    \n",
    "tv_energy.setup['alpha'] = grid_search(samples.y)"
   ]
  },
  {
   "cell_type": "code",
   "execution_count": 17,
   "metadata": {},
   "outputs": [
    {
     "name": "stdout",
     "output_type": "stream",
     "text": [
      "Optimal alpha by grid search is 0.078\n",
      "TRAINING | MSE: 0.001068 | avg PSNR for these samples: 27.873,  Time: 00:01 mins\n",
      "TESTING | MSE: 0.001051 | avg PSNR for the given testset: 27.407, Time: 00:06 mins---\n"
     ]
    }
   ],
   "source": [
    "print(f'Optimal alpha by grid search is {tv_energy.setup[\"alpha\"]:.3f}')\n",
    "img_denoised, _ = Sur.training_error(tv_energy, loss, samples);\n",
    "_, _ = Sur.testing_error(tv_energy, loss, datasetTestFull);"
   ]
  },
  {
   "cell_type": "code",
   "execution_count": 18,
   "metadata": {},
   "outputs": [
    {
     "data": {
      "image/png": "[encoded data removed]",
      "text/plain": [
       "<Figure size 1440x720 with 3 Axes>"
      ]
     },
     "metadata": {
      "needs_background": "light"
     },
     "output_type": "display_data"
    }
   ],
   "source": [
    "fig, axes = plt.subplots(1,3,figsize=(20, 10))\n",
    "axes[0].imshow(samples.x[0,:,:,].permute(1, 2, 0).cpu().numpy().squeeze(), cmap='gray')\n",
    "axes[1].imshow(samples.y[0,:,:,].permute(1, 2, 0).cpu().numpy().squeeze(), cmap='gray')\n",
    "axes[2].imshow(img_denoised[0,:,:,:].permute(1, 2, 0).cpu().numpy().squeeze(), cmap='gray')\n",
    "fig.canvas.draw()"
   ]
  },
  {
   "cell_type": "markdown",
   "metadata": {},
   "source": [
    "# 3) Fixed Point Property Test"
   ]
  },
  {
   "cell_type": "code",
   "execution_count": 19,
   "metadata": {},
   "outputs": [],
   "source": [
    "import skimage.restoration as skir\n",
    "\n",
    "# If using test data:\n",
    "samples = Sur.data.Samples(datasetTest, batch_size, device=device, dtype=dtype)"
   ]
  },
  {
   "cell_type": "code",
   "execution_count": 20,
   "metadata": {},
   "outputs": [],
   "source": [
    "psnr_est = defaultdict(list)\n",
    "noise_est = defaultdict(lambda: [noise])\n",
    "\n",
    "output = dict()\n",
    "output['tv'], output['dict'] = [samples.y]*2\n",
    "\n",
    "energies = dict()\n",
    "energies['tv'], energies['dict'] = deepcopy(tv_energy), deepcopy(energy)"
   ]
  },
  {
   "cell_type": "code",
   "execution_count": 21,
   "metadata": {},
   "outputs": [
    {
     "name": "stdout",
     "output_type": "stream",
     "text": [
      "Estimated Noise for tv is 0.1000 lead to psnr 27.28\n",
      "Estimated Noise for dict is 0.1000 lead to psnr 28.16\n",
      "Estimated Noise for tv is 0.0104 lead to psnr 27.17\n",
      "Estimated Noise for dict is 0.0069 lead to psnr 28.20\n",
      "Estimated Noise for tv is 0.0076 lead to psnr 27.05\n",
      "Estimated Noise for dict is 0.0044 lead to psnr 28.17\n",
      "Estimated Noise for tv is 0.0061 lead to psnr 26.93\n",
      "Estimated Noise for dict is 0.0035 lead to psnr 28.13\n",
      "Estimated Noise for tv is 0.0053 lead to psnr 26.82\n",
      "Estimated Noise for dict is 0.0029 lead to psnr 28.09\n",
      "Estimated Noise for tv is 0.0047 lead to psnr 26.73\n",
      "Estimated Noise for dict is 0.0026 lead to psnr 28.05\n",
      "Estimated Noise for tv is 0.0043 lead to psnr 26.64\n",
      "Estimated Noise for dict is 0.0023 lead to psnr 28.01\n",
      "Estimated Noise for tv is 0.0039 lead to psnr 26.56\n",
      "Estimated Noise for dict is 0.0021 lead to psnr 27.98\n",
      "Estimated Noise for tv is 0.0037 lead to psnr 26.48\n",
      "Estimated Noise for dict is 0.0019 lead to psnr 27.94\n",
      "Estimated Noise for tv is 0.0035 lead to psnr 26.42\n",
      "Estimated Noise for dict is 0.0018 lead to psnr 27.90\n",
      "Estimated Noise for tv is 0.0032 lead to psnr 26.35\n",
      "Estimated Noise for dict is 0.0017 lead to psnr 27.87\n",
      "Estimated Noise for tv is 0.0031 lead to psnr 26.29\n",
      "Estimated Noise for dict is 0.0016 lead to psnr 27.84\n",
      "Estimated Noise for tv is 0.0029 lead to psnr 26.24\n",
      "Estimated Noise for dict is 0.0015 lead to psnr 27.81\n",
      "Estimated Noise for tv is 0.0028 lead to psnr 26.18\n",
      "Estimated Noise for dict is 0.0014 lead to psnr 27.78\n",
      "Estimated Noise for tv is 0.0027 lead to psnr 26.13\n",
      "Estimated Noise for dict is 0.0014 lead to psnr 27.75\n",
      "Estimated Noise for tv is 0.0026 lead to psnr 26.09\n",
      "Estimated Noise for dict is 0.0013 lead to psnr 27.72\n",
      "Estimated Noise for tv is 0.0025 lead to psnr 26.04\n",
      "Estimated Noise for dict is 0.0013 lead to psnr 27.69\n",
      "Estimated Noise for tv is 0.0024 lead to psnr 26.00\n",
      "Estimated Noise for dict is 0.0012 lead to psnr 27.67\n",
      "Estimated Noise for tv is 0.0023 lead to psnr 25.96\n",
      "Estimated Noise for dict is 0.0012 lead to psnr 27.64\n",
      "Estimated Noise for tv is 0.0023 lead to psnr 25.92\n",
      "Estimated Noise for dict is 0.0011 lead to psnr 27.62\n",
      "Estimated Noise for tv is 0.0022 lead to psnr 25.88\n",
      "Estimated Noise for dict is 0.0011 lead to psnr 27.60\n",
      "Estimated Noise for tv is 0.0021 lead to psnr 25.84\n",
      "Estimated Noise for dict is 0.0011 lead to psnr 27.57\n",
      "Estimated Noise for tv is 0.0021 lead to psnr 25.81\n",
      "Estimated Noise for dict is 0.0010 lead to psnr 27.55\n",
      "Estimated Noise for tv is 0.0020 lead to psnr 25.77\n",
      "Estimated Noise for dict is 0.0010 lead to psnr 27.53\n",
      "Estimated Noise for tv is 0.0020 lead to psnr 25.74\n",
      "Estimated Noise for dict is 0.0010 lead to psnr 27.51\n",
      "Estimated Noise for tv is 0.0019 lead to psnr 25.71\n",
      "Estimated Noise for dict is 0.0010 lead to psnr 27.49\n",
      "Estimated Noise for tv is 0.0019 lead to psnr 25.68\n",
      "Estimated Noise for dict is 0.0009 lead to psnr 27.47\n",
      "Estimated Noise for tv is 0.0018 lead to psnr 25.65\n",
      "Estimated Noise for dict is 0.0009 lead to psnr 27.45\n",
      "Estimated Noise for tv is 0.0018 lead to psnr 25.62\n",
      "Estimated Noise for dict is 0.0009 lead to psnr 27.43\n",
      "Estimated Noise for tv is 0.0017 lead to psnr 25.60\n",
      "Estimated Noise for dict is 0.0009 lead to psnr 27.41\n",
      "Estimated Noise for tv is 0.0017 lead to psnr 25.57\n",
      "Estimated Noise for dict is 0.0008 lead to psnr 27.40\n",
      "Estimated Noise for tv is 0.0017 lead to psnr 25.54\n",
      "Estimated Noise for dict is 0.0008 lead to psnr 27.38\n",
      "Estimated Noise for tv is 0.0016 lead to psnr 25.52\n",
      "Estimated Noise for dict is 0.0008 lead to psnr 27.36\n",
      "Estimated Noise for tv is 0.0016 lead to psnr 25.49\n",
      "Estimated Noise for dict is 0.0008 lead to psnr 27.35\n",
      "Estimated Noise for tv is 0.0016 lead to psnr 25.47\n",
      "Estimated Noise for dict is 0.0008 lead to psnr 27.33\n",
      "Estimated Noise for tv is 0.0016 lead to psnr 25.45\n",
      "Estimated Noise for dict is 0.0008 lead to psnr 27.31\n",
      "Estimated Noise for tv is 0.0015 lead to psnr 25.42\n",
      "Estimated Noise for dict is 0.0008 lead to psnr 27.30\n",
      "Estimated Noise for tv is 0.0015 lead to psnr 25.40\n",
      "Estimated Noise for dict is 0.0007 lead to psnr 27.28\n",
      "Estimated Noise for tv is 0.0015 lead to psnr 25.38\n",
      "Estimated Noise for dict is 0.0007 lead to psnr 27.27\n",
      "Estimated Noise for tv is 0.0015 lead to psnr 25.36\n",
      "Estimated Noise for dict is 0.0007 lead to psnr 27.25\n",
      "Estimated Noise for tv is 0.0014 lead to psnr 25.34\n",
      "Estimated Noise for dict is 0.0007 lead to psnr 27.24\n",
      "Estimated Noise for tv is 0.0014 lead to psnr 25.32\n",
      "Estimated Noise for dict is 0.0007 lead to psnr 27.23\n",
      "Estimated Noise for tv is 0.0014 lead to psnr 25.30\n",
      "Estimated Noise for dict is 0.0007 lead to psnr 27.21\n",
      "Estimated Noise for tv is 0.0014 lead to psnr 25.28\n",
      "Estimated Noise for dict is 0.0007 lead to psnr 27.20\n",
      "Estimated Noise for tv is 0.0014 lead to psnr 25.26\n",
      "Estimated Noise for dict is 0.0007 lead to psnr 27.19\n",
      "Estimated Noise for tv is 0.0013 lead to psnr 25.24\n",
      "Estimated Noise for dict is 0.0007 lead to psnr 27.17\n",
      "Estimated Noise for tv is 0.0013 lead to psnr 25.22\n",
      "Estimated Noise for dict is 0.0006 lead to psnr 27.16\n",
      "Estimated Noise for tv is 0.0013 lead to psnr 25.20\n",
      "Estimated Noise for dict is 0.0006 lead to psnr 27.15\n",
      "Estimated Noise for tv is 0.0013 lead to psnr 25.19\n",
      "Estimated Noise for dict is 0.0006 lead to psnr 27.13\n",
      "Estimated Noise for tv is 0.0013 lead to psnr 25.17\n",
      "Estimated Noise for dict is 0.0006 lead to psnr 27.12\n"
     ]
    }
   ],
   "source": [
    "repetitions = 50\n",
    "\n",
    "for iterations in range(repetitions):\n",
    "    for key in output.keys():\n",
    "        noise_est[key].append(skir.estimate_sigma(output[key].permute(2,3,0,1).cpu().numpy(),\n",
    "                                    multichannel=True, average_sigmas=True))\n",
    "        energies[key].setup['alpha'] *= noise_est[key][-1] / noise_est[key][-2]\n",
    "        output[key] = energies[key].minimize(output[key])\n",
    "        psnr_est[key].append(Sur.psnr_compute(output[key], samples.x))\n",
    "        print(f'Estimated Noise for {key} is {noise_est[key][-1]:.4f} lead to psnr {psnr_est[key][-1]:.2f}')"
   ]
  },
  {
   "cell_type": "code",
   "execution_count": 22,
   "metadata": {},
   "outputs": [
    {
     "data": {
      "application/vnd.plotly.v1+json": {
       "config": {
        "linkText": "Export to plot.ly",
        "plotlyServerURL": "https://plot.ly",
        "showLink": false
       },
       "data": [
        {
         "name": "Repeating total variation (testing68 sample)",
         "type": "scatter",
         "uid": "8a7339f5-a22f-4d61-88fd-82268c6cfa3b",
         "x": [
          1,
          2,
          3,
          4,
          5,
          6,
          7,
          8,
          9,
          10,
          11,
          12,
          13,
          14,
          15,
          16,
          17,
          18,
          19,
          20,
          21,
          22,
          23,
          24,
          25,
          26,
          27,
          28,
          29,
          30,
          31,
          32,
          33,
          34,
          35,
          36,
          37,
          38,
          39,
          40,
          41,
          42,
          43,
          44,
          45,
          46,
          47,
          48,
          49
         ],
         "y": [
          27.281665381263284,
          27.17259474361644,
          27.04571185392492,
          26.92840270435109,
          26.822207478915942,
          26.72610928030575,
          26.63851255529067,
          26.55863442140467,
          26.484779414008646,
          26.416136685539694,
          26.35257863998413,
          26.293179820565616,
          26.237188872169046,
          26.184353996725644,
          26.134306767407587,
          26.08674888049855,
          26.04146463730756,
          25.998295307159424,
          25.9570811215569,
          25.917506330153522,
          25.879604199353388,
          25.84323277192957,
          25.80844309750725,
          25.774785967434156,
          25.742367099313174,
          25.710944344015683,
          25.68077502531164,
          25.651534725637998,
          25.623157052432788,
          25.595646100885727,
          25.568953093360452,
          25.543107818154727,
          25.51798439025879,
          25.493562502019547,
          25.469660141888788,
          25.44642260495354,
          25.423733290504007,
          25.401517503401813,
          25.37982688230627,
          25.358599129845114,
          25.337856012232162,
          25.317570209503174,
          25.297678554759305,
          25.278220513287714,
          25.25915002822876,
          25.24043344048893,
          25.222065308514765,
          25.204084396362305,
          25.18648885278141,
          25.169242045458624
         ]
        },
        {
         "name": "Repeating dictionary approach (testing68 sample)",
         "type": "scatter",
         "uid": "81334626-5343-4e41-aca5-bac69fb1e2ca",
         "x": [
          1,
          2,
          3,
          4,
          5,
          6,
          7,
          8,
          9,
          10,
          11,
          12,
          13,
          14,
          15,
          16,
          17,
          18,
          19,
          20,
          21,
          22,
          23,
          24,
          25,
          26,
          27,
          28,
          29,
          30,
          31,
          32,
          33,
          34,
          35,
          36,
          37,
          38,
          39,
          40,
          41,
          42,
          43,
          44,
          45,
          46,
          47,
          48,
          49
         ],
         "y": [
          28.159235870136936,
          28.19779292274924,
          28.17179396573235,
          28.134004648993997,
          28.09334129445693,
          28.052827807033765,
          28.013511797961065,
          27.97550173366771,
          27.93902857163373,
          27.904045441571405,
          27.870404523961685,
          27.83811330795288,
          27.807220290688907,
          27.77757209890029,
          27.749017743503344,
          27.72146396075978,
          27.69484581666834,
          27.66901787589578,
          27.64400083878461,
          27.61971397960887,
          27.59620949801277,
          27.573491797727698,
          27.55148688484641,
          27.530112687279196,
          27.50941214841955,
          27.489234980414896,
          27.46963663662181,
          27.45056132709279,
          27.431999430936926,
          27.413897710687973,
          27.396267947028665,
          27.3789961197797,
          27.362120740553912,
          27.34564750334796,
          27.32953985999612,
          27.313739271724927,
          27.298269973081702,
          27.283125035903034,
          27.26832128973568,
          27.253849141737994,
          27.239675521850586,
          27.225793417762308,
          27.212146310245288,
          27.198726794298956,
          27.185527997858383,
          27.17255948571598,
          27.159780418171604,
          27.147205044241513,
          27.13486090828391,
          27.122717100031235
         ]
        }
       ],
       "layout": {
        "title": {
         "text": "PSNR value vs number of repetitions"
        },
        "xaxis": {
         "automargin": true,
         "autorange": true,
         "title": {
          "text": "Iterations"
         },
         "type": "log"
        },
        "yaxis": {
         "automargin": true,
         "autorange": true,
         "title": {
          "text": "PSNR"
         },
         "type": "log"
        }
       }
      },
      "text/html": [
       "<div id=\"579eea32-f757-481e-8b96-116cdd5e1b00\" style=\"height: 525px; width: 100%;\" class=\"plotly-graph-div\"></div><script type=\"text/javascript\">require([\"plotly\"], function(Plotly) { window.PLOTLYENV=window.PLOTLYENV || {};window.PLOTLYENV.BASE_URL=\"https://plot.ly\";Plotly.newPlot(\"579eea32-f757-481e-8b96-116cdd5e1b00\", [{\"name\": \"Repeating total variation (testing68 sample)\", \"x\": [1, 2, 3, 4, 5, 6, 7, 8, 9, 10, 11, 12, 13, 14, 15, 16, 17, 18, 19, 20, 21, 22, 23, 24, 25, 26, 27, 28, 29, 30, 31, 32, 33, 34, 35, 36, 37, 38, 39, 40, 41, 42, 43, 44, 45, 46, 47, 48, 49], \"y\": [27.281665381263284, 27.17259474361644, 27.04571185392492, 26.92840270435109, 26.822207478915942, 26.72610928030575, 26.63851255529067, 26.55863442140467, 26.484779414008646, 26.416136685539694, 26.35257863998413, 26.293179820565616, 26.237188872169046, 26.184353996725644, 26.134306767407587, 26.08674888049855, 26.04146463730756, 25.998295307159424, 25.9570811215569, 25.917506330153522, 25.879604199353388, 25.84323277192957, 25.80844309750725, 25.774785967434156, 25.742367099313174, 25.710944344015683, 25.68077502531164, 25.651534725637998, 25.623157052432788, 25.595646100885727, 25.568953093360452, 25.543107818154727, 25.51798439025879, 25.493562502019547, 25.469660141888788, 25.44642260495354, 25.423733290504007, 25.401517503401813, 25.37982688230627, 25.358599129845114, 25.337856012232162, 25.317570209503174, 25.297678554759305, 25.278220513287714, 25.25915002822876, 25.24043344048893, 25.222065308514765, 25.204084396362305, 25.18648885278141, 25.169242045458624], \"type\": \"scatter\", \"uid\": \"8a7339f5-a22f-4d61-88fd-82268c6cfa3b\"}, {\"name\": \"Repeating dictionary approach (testing68 sample)\", \"x\": [1, 2, 3, 4, 5, 6, 7, 8, 9, 10, 11, 12, 13, 14, 15, 16, 17, 18, 19, 20, 21, 22, 23, 24, 25, 26, 27, 28, 29, 30, 31, 32, 33, 34, 35, 36, 37, 38, 39, 40, 41, 42, 43, 44, 45, 46, 47, 48, 49], \"y\": [28.159235870136936, 28.19779292274924, 28.17179396573235, 28.134004648993997, 28.09334129445693, 28.052827807033765, 28.013511797961065, 27.97550173366771, 27.93902857163373, 27.904045441571405, 27.870404523961685, 27.83811330795288, 27.807220290688907, 27.77757209890029, 27.749017743503344, 27.72146396075978, 27.69484581666834, 27.66901787589578, 27.64400083878461, 27.61971397960887, 27.59620949801277, 27.573491797727698, 27.55148688484641, 27.530112687279196, 27.50941214841955, 27.489234980414896, 27.46963663662181, 27.45056132709279, 27.431999430936926, 27.413897710687973, 27.396267947028665, 27.3789961197797, 27.362120740553912, 27.34564750334796, 27.32953985999612, 27.313739271724927, 27.298269973081702, 27.283125035903034, 27.26832128973568, 27.253849141737994, 27.239675521850586, 27.225793417762308, 27.212146310245288, 27.198726794298956, 27.185527997858383, 27.17255948571598, 27.159780418171604, 27.147205044241513, 27.13486090828391, 27.122717100031235], \"type\": \"scatter\", \"uid\": \"81334626-5343-4e41-aca5-bac69fb1e2ca\"}], {\"title\": {\"text\": \"PSNR value vs number of repetitions\"}, \"xaxis\": {\"automargin\": true, \"autorange\": true, \"title\": {\"text\": \"Iterations\"}, \"type\": \"log\"}, \"yaxis\": {\"automargin\": true, \"autorange\": true, \"title\": {\"text\": \"PSNR\"}, \"type\": \"log\"}}, {\"showLink\": false, \"linkText\": \"Export to plot.ly\", \"plotlyServerURL\": \"https://plot.ly\"})});</script><script type=\"text/javascript\">window.addEventListener(\"resize\", function(){window._Plotly.Plots.resize(document.getElementById(\"579eea32-f757-481e-8b96-116cdd5e1b00\"));});</script>"
      ],
      "text/vnd.plotly.v1+html": [
       "<div id=\"579eea32-f757-481e-8b96-116cdd5e1b00\" style=\"height: 525px; width: 100%;\" class=\"plotly-graph-div\"></div><script type=\"text/javascript\">require([\"plotly\"], function(Plotly) { window.PLOTLYENV=window.PLOTLYENV || {};window.PLOTLYENV.BASE_URL=\"https://plot.ly\";Plotly.newPlot(\"579eea32-f757-481e-8b96-116cdd5e1b00\", [{\"name\": \"Repeating total variation (testing68 sample)\", \"x\": [1, 2, 3, 4, 5, 6, 7, 8, 9, 10, 11, 12, 13, 14, 15, 16, 17, 18, 19, 20, 21, 22, 23, 24, 25, 26, 27, 28, 29, 30, 31, 32, 33, 34, 35, 36, 37, 38, 39, 40, 41, 42, 43, 44, 45, 46, 47, 48, 49], \"y\": [27.281665381263284, 27.17259474361644, 27.04571185392492, 26.92840270435109, 26.822207478915942, 26.72610928030575, 26.63851255529067, 26.55863442140467, 26.484779414008646, 26.416136685539694, 26.35257863998413, 26.293179820565616, 26.237188872169046, 26.184353996725644, 26.134306767407587, 26.08674888049855, 26.04146463730756, 25.998295307159424, 25.9570811215569, 25.917506330153522, 25.879604199353388, 25.84323277192957, 25.80844309750725, 25.774785967434156, 25.742367099313174, 25.710944344015683, 25.68077502531164, 25.651534725637998, 25.623157052432788, 25.595646100885727, 25.568953093360452, 25.543107818154727, 25.51798439025879, 25.493562502019547, 25.469660141888788, 25.44642260495354, 25.423733290504007, 25.401517503401813, 25.37982688230627, 25.358599129845114, 25.337856012232162, 25.317570209503174, 25.297678554759305, 25.278220513287714, 25.25915002822876, 25.24043344048893, 25.222065308514765, 25.204084396362305, 25.18648885278141, 25.169242045458624], \"type\": \"scatter\", \"uid\": \"8a7339f5-a22f-4d61-88fd-82268c6cfa3b\"}, {\"name\": \"Repeating dictionary approach (testing68 sample)\", \"x\": [1, 2, 3, 4, 5, 6, 7, 8, 9, 10, 11, 12, 13, 14, 15, 16, 17, 18, 19, 20, 21, 22, 23, 24, 25, 26, 27, 28, 29, 30, 31, 32, 33, 34, 35, 36, 37, 38, 39, 40, 41, 42, 43, 44, 45, 46, 47, 48, 49], \"y\": [28.159235870136936, 28.19779292274924, 28.17179396573235, 28.134004648993997, 28.09334129445693, 28.052827807033765, 28.013511797961065, 27.97550173366771, 27.93902857163373, 27.904045441571405, 27.870404523961685, 27.83811330795288, 27.807220290688907, 27.77757209890029, 27.749017743503344, 27.72146396075978, 27.69484581666834, 27.66901787589578, 27.64400083878461, 27.61971397960887, 27.59620949801277, 27.573491797727698, 27.55148688484641, 27.530112687279196, 27.50941214841955, 27.489234980414896, 27.46963663662181, 27.45056132709279, 27.431999430936926, 27.413897710687973, 27.396267947028665, 27.3789961197797, 27.362120740553912, 27.34564750334796, 27.32953985999612, 27.313739271724927, 27.298269973081702, 27.283125035903034, 27.26832128973568, 27.253849141737994, 27.239675521850586, 27.225793417762308, 27.212146310245288, 27.198726794298956, 27.185527997858383, 27.17255948571598, 27.159780418171604, 27.147205044241513, 27.13486090828391, 27.122717100031235], \"type\": \"scatter\", \"uid\": \"81334626-5343-4e41-aca5-bac69fb1e2ca\"}], {\"title\": {\"text\": \"PSNR value vs number of repetitions\"}, \"xaxis\": {\"automargin\": true, \"autorange\": true, \"title\": {\"text\": \"Iterations\"}, \"type\": \"log\"}, \"yaxis\": {\"automargin\": true, \"autorange\": true, \"title\": {\"text\": \"PSNR\"}, \"type\": \"log\"}}, {\"showLink\": false, \"linkText\": \"Export to plot.ly\", \"plotlyServerURL\": \"https://plot.ly\"})});</script><script type=\"text/javascript\">window.addEventListener(\"resize\", function(){window._Plotly.Plots.resize(document.getElementById(\"579eea32-f757-481e-8b96-116cdd5e1b00\"));});</script>"
      ]
     },
     "metadata": {},
     "output_type": "display_data"
    }
   ],
   "source": [
    "iter_range = np.arange(1, repetitions)\n",
    "data = [go.Scatter(x = iter_range, y=psnr_est['tv'],\n",
    "                   name = f'Repeating total variation ({samples.dataset.split} sample)')]\n",
    "data.append(go.Scatter(x = iter_range, y=psnr_est['dict'],\n",
    "                       name = f'Repeating dictionary approach ({samples.dataset.split} sample)'))\n",
    "\n",
    "layout = go.Layout(\n",
    "         xaxis=dict(\n",
    "             type='log',\n",
    "             autorange=True,\n",
    "             title='Iterations',\n",
    "             automargin=True\n",
    "             ),\n",
    "         yaxis=dict(\n",
    "             type='log',\n",
    "             autorange  = True,\n",
    "             title='PSNR',\n",
    "             automargin=True\n",
    "         ),\n",
    "         title = (f'PSNR value vs number of repetitions')\n",
    "         )\n",
    "fig = go.Figure(data=data, layout=layout)\n",
    "ply.iplot(fig)"
   ]
  },
  {
   "cell_type": "code",
   "execution_count": 23,
   "metadata": {},
   "outputs": [
    {
     "data": {
      "image/png": "[encoded data removed]",
      "text/plain": [
       "<Figure size 1440x720 with 3 Axes>"
      ]
     },
     "metadata": {
      "needs_background": "light"
     },
     "output_type": "display_data"
    }
   ],
   "source": [
    "fig, axes = plt.subplots(1,3,figsize=(20, 10))\n",
    "axes[0].imshow(samples.x[0,:,:,].permute(1, 2, 0).cpu().numpy().squeeze(), cmap='gray')\n",
    "axes[1].imshow(output['tv'][0,:,:,].permute(1, 2, 0).cpu().numpy().squeeze(), cmap='gray')\n",
    "axes[2].imshow(output['dict'][0,:,:,:].permute(1, 2, 0).cpu().numpy().squeeze(), cmap='gray')\n",
    "fig.canvas.draw()"
   ]
  },
  {
   "cell_type": "markdown",
   "metadata": {},
   "source": [
    "# 4) Self-referential Denoising"
   ]
  },
  {
   "cell_type": "code",
   "execution_count": 26,
   "metadata": {},
   "outputs": [
    {
     "name": "stdout",
     "output_type": "stream",
     "text": [
      "status: iteration    0, loss: 0.00006 (avg PSNR est: 39.411), tol: 100.000%\n",
      "status: iteration 1000, loss: 0.00400 (avg PSNR est: 20.965), tol: 0.031%\n",
      "status: iteration 2000, loss: 0.00392 (avg PSNR est: 21.057), tol: 0.016%\n",
      "status: iteration 3000, loss: 0.00392 (avg PSNR est: 21.054), tol: 0.024%\n",
      "status: iteration 4000, loss: 0.00394 (avg PSNR est: 21.030), tol: 0.047%\n",
      "status: iteration 5000, loss: 0.00392 (avg PSNR est: 21.055), tol: 0.016%\n",
      "status: iteration 6000, loss: 0.00393 (avg PSNR est: 21.050), tol: 0.137%\n",
      "status: iteration 7000, loss: 0.00393 (avg PSNR est: 21.041), tol: 0.013%\n",
      "status: finished  8000  iterations in 4 minutes and 30.35 seconds. tol: 0.009%\n",
      "-- Iteration 0 done, tol: 100.000%, MSE: 0.003232, avg PSNR: 21.900\n",
      "status: iteration    0, loss: 0.00196 (avg PSNR est: 24.066), tol: 100.000%\n",
      "status: iteration 1000, loss: 0.00212 (avg PSNR est: 23.719), tol: 0.021%\n",
      "status: iteration 2000, loss: 0.00216 (avg PSNR est: 23.645), tol: 0.045%\n",
      "status: iteration 3000, loss: 0.00214 (avg PSNR est: 23.681), tol: 0.052%\n",
      "status: iteration 4000, loss: 0.00217 (avg PSNR est: 23.627), tol: 0.028%\n",
      "status: finished  4028  iterations in 2 minutes and 17.64 seconds. tol: 0.000%\n",
      "-- Iteration 1 done, tol: 13.599%, MSE: 0.002793, avg PSNR: 22.543\n",
      "status: iteration    0, loss: 0.00337 (avg PSNR est: 21.713), tol: 100.000%\n",
      "status: iteration 1000, loss: 0.00337 (avg PSNR est: 21.712), tol: 0.030%\n",
      "status: iteration 2000, loss: 0.00335 (avg PSNR est: 21.744), tol: 0.009%\n",
      "status: iteration 3000, loss: 0.00338 (avg PSNR est: 21.696), tol: 0.009%\n",
      "status: iteration 4000, loss: 0.00334 (avg PSNR est: 21.747), tol: 0.055%\n",
      "status: iteration 5000, loss: 0.00336 (avg PSNR est: 21.724), tol: 0.103%\n",
      "status: iteration 6000, loss: 0.00336 (avg PSNR est: 21.727), tol: 0.109%\n",
      "status: finished  6693  iterations in 3 minutes and 48.52 seconds. tol: 0.000%\n",
      "-- Iteration 2 done, tol: 0.701%, MSE: 0.002773, avg PSNR: 22.574\n",
      "status: iteration    0, loss: 0.00348 (avg PSNR est: 21.580), tol: 100.000%\n",
      "status: finished   150  iterations in 0 minutes and 5.11 seconds. tol: 0.000%\n",
      "-- Iteration 3 done, tol: 3.430%, MSE: 0.002868, avg PSNR: 22.432\n",
      "status: iteration    0, loss: 0.00399 (avg PSNR est: 20.977), tol: 100.000%\n",
      "status: iteration 1000, loss: 0.00390 (avg PSNR est: 21.082), tol: 0.026%\n",
      "status: finished  1538  iterations in 0 minutes and 52.53 seconds. tol: 0.000%\n",
      "-- Iteration 4 done, tol: 2.662%, MSE: 0.002792, avg PSNR: 22.546\n",
      "status: iteration    0, loss: 0.00359 (avg PSNR est: 21.438), tol: 100.000%\n",
      "status: iteration 1000, loss: 0.00354 (avg PSNR est: 21.499), tol: 0.017%\n",
      "status: finished  1547  iterations in 0 minutes and 53.17 seconds. tol: 0.000%\n",
      "-- Iteration 5 done, tol: 0.355%, MSE: 0.002782, avg PSNR: 22.561\n",
      "status: iteration    0, loss: 0.00351 (avg PSNR est: 21.533), tol: 100.000%\n",
      "status: iteration 1000, loss: 0.00348 (avg PSNR est: 21.574), tol: 0.017%\n",
      "status: iteration 2000, loss: 0.00348 (avg PSNR est: 21.573), tol: 0.023%\n",
      "status: iteration 3000, loss: 0.00347 (avg PSNR est: 21.587), tol: 0.035%\n",
      "status: iteration 4000, loss: 0.00348 (avg PSNR est: 21.569), tol: 0.019%\n",
      "status: finished  4120  iterations in 2 minutes and 22.37 seconds. tol: 0.000%\n",
      "-- Iteration 6 done, tol: 0.073%, MSE: 0.002784, avg PSNR: 22.558\n",
      "status: iteration    0, loss: 0.00349 (avg PSNR est: 21.560), tol: 100.000%\n",
      "status: finished   583  iterations in 0 minutes and 20.12 seconds. tol: 0.000%\n",
      "-- Iteration 7 done, tol: 0.439%, MSE: 0.002796, avg PSNR: 22.538\n",
      "status: iteration    0, loss: 0.00348 (avg PSNR est: 21.576), tol: 100.000%\n",
      "status: iteration 1000, loss: 0.00347 (avg PSNR est: 21.581), tol: 0.032%\n",
      "status: finished  1096  iterations in 0 minutes and 37.83 seconds. tol: 0.000%\n",
      "-- Iteration 8 done, tol: 0.347%, MSE: 0.002787, avg PSNR: 22.553\n",
      "status: iteration    0, loss: 0.00349 (avg PSNR est: 21.557), tol: 100.000%\n",
      "status: iteration 1000, loss: 0.00348 (avg PSNR est: 21.579), tol: 0.041%\n",
      "status: iteration 2000, loss: 0.00348 (avg PSNR est: 21.576), tol: 0.027%\n",
      "status: iteration 3000, loss: 0.00347 (avg PSNR est: 21.581), tol: 0.013%\n",
      "status: iteration 4000, loss: 0.00346 (avg PSNR est: 21.597), tol: 0.002%\n",
      "status: iteration 5000, loss: 0.00348 (avg PSNR est: 21.577), tol: 0.039%\n",
      "status: iteration 6000, loss: 0.00346 (avg PSNR est: 21.599), tol: 0.016%\n",
      "status: iteration 7000, loss: 0.00348 (avg PSNR est: 21.572), tol: 0.014%\n",
      "status: finished  7846  iterations in 4 minutes and 31.08 seconds. tol: 0.000%\n",
      "-- Iteration 9 done, tol: 0.023%, MSE: 0.002786, avg PSNR: 22.554\n",
      "status: iteration    0, loss: 0.00353 (avg PSNR est: 21.508), tol: 100.000%\n",
      "status: iteration 1000, loss: 0.00351 (avg PSNR est: 21.541), tol: 0.015%\n",
      "status: iteration 2000, loss: 0.00351 (avg PSNR est: 21.540), tol: 0.016%\n",
      "status: iteration 3000, loss: 0.00350 (avg PSNR est: 21.555), tol: 0.115%\n",
      "status: iteration 4000, loss: 0.00351 (avg PSNR est: 21.536), tol: 0.010%\n",
      "status: finished  4159  iterations in 2 minutes and 23.59 seconds. tol: 0.000%\n",
      "-- Iteration 10 done, tol: 0.277%, MSE: 0.002778, avg PSNR: 22.566\n",
      "status: iteration    0, loss: 0.00349 (avg PSNR est: 21.562), tol: 100.000%\n",
      "status: iteration 1000, loss: 0.00344 (avg PSNR est: 21.620), tol: 0.043%\n",
      "status: finished  1629  iterations in 0 minutes and 56.23 seconds. tol: 0.000%\n",
      "-- Iteration 11 done, tol: 0.139%, MSE: 0.002774, avg PSNR: 22.572\n",
      "status: iteration    0, loss: 0.00348 (avg PSNR est: 21.578), tol: 100.000%\n",
      "status: iteration 1000, loss: 0.00344 (avg PSNR est: 21.619), tol: 0.047%\n",
      "status: iteration 2000, loss: 0.00344 (avg PSNR est: 21.623), tol: 0.037%\n",
      "status: iteration 3000, loss: 0.00347 (avg PSNR est: 21.588), tol: 0.059%\n",
      "status: finished  3233  iterations in 2 minutes and 0.72 seconds. tol: 0.000%\n",
      "-- Iteration 12 done, tol: 0.282%, MSE: 0.002782, avg PSNR: 22.559\n",
      "status: iteration    0, loss: 0.00347 (avg PSNR est: 21.587), tol: 100.000%\n",
      "status: iteration 1000, loss: 0.00343 (avg PSNR est: 21.631), tol: 0.003%\n",
      "status: iteration 2000, loss: 0.00346 (avg PSNR est: 21.602), tol: 0.011%\n",
      "status: iteration 3000, loss: 0.00343 (avg PSNR est: 21.638), tol: 0.032%\n",
      "status: finished  3236  iterations in 3 minutes and 4.26 seconds. tol: 0.000%\n",
      "-- Iteration 13 done, tol: 0.156%, MSE: 0.002787, avg PSNR: 22.553\n",
      "status: iteration    0, loss: 0.00352 (avg PSNR est: 21.521), tol: 100.000%\n",
      "status: iteration 1000, loss: 0.00350 (avg PSNR est: 21.554), tol: 0.034%\n",
      "status: iteration 2000, loss: 0.00350 (avg PSNR est: 21.554), tol: 0.021%\n",
      "status: iteration 3000, loss: 0.00350 (avg PSNR est: 21.546), tol: 0.014%\n",
      "status: finished  3210  iterations in 3 minutes and 11.02 seconds. tol: 0.000%\n",
      "-- Iteration 14 done, tol: 0.036%, MSE: 0.002788, avg PSNR: 22.551\n",
      "status: iteration    0, loss: 0.00349 (avg PSNR est: 21.556), tol: 100.000%\n",
      "status: iteration 1000, loss: 0.00347 (avg PSNR est: 21.592), tol: 0.015%\n",
      "status: finished  1254  iterations in 1 minutes and 18.13 seconds. tol: 0.000%\n",
      "-- Iteration 15 done, tol: 0.297%, MSE: 0.002796, avg PSNR: 22.538\n",
      "status: iteration    0, loss: 0.00353 (avg PSNR est: 21.514), tol: 100.000%\n",
      "status: iteration 1000, loss: 0.00350 (avg PSNR est: 21.552), tol: 0.029%\n",
      "status: iteration 2000, loss: 0.00352 (avg PSNR est: 21.528), tol: 0.012%\n",
      "status: iteration 3000, loss: 0.00350 (avg PSNR est: 21.546), tol: 0.032%\n",
      "status: iteration 4000, loss: 0.00350 (avg PSNR est: 21.544), tol: 0.016%\n",
      "status: finished  4339  iterations in 4 minutes and 35.37 seconds. tol: 0.000%\n",
      "-- Iteration 16 done, tol: 0.804%, MSE: 0.002773, avg PSNR: 22.574\n",
      "status: iteration    0, loss: 0.00348 (avg PSNR est: 21.579), tol: 100.000%\n",
      "status: iteration 1000, loss: 0.00344 (avg PSNR est: 21.630), tol: 0.010%\n",
      "status: iteration 2000, loss: 0.00345 (avg PSNR est: 21.613), tol: 0.036%\n",
      "status: iteration 3000, loss: 0.00345 (avg PSNR est: 21.615), tol: 0.000%\n",
      "status: finished  3002  iterations in 3 minutes and 4.31 seconds. tol: 0.000%\n",
      "-- Iteration 17 done, tol: 0.192%, MSE: 0.002779, avg PSNR: 22.566\n",
      "status: iteration    0, loss: 0.00349 (avg PSNR est: 21.566), tol: 100.000%\n",
      "status: finished   597  iterations in 0 minutes and 35.74 seconds. tol: 0.000%\n",
      "-- Iteration 18 done, tol: 1.222%, MSE: 0.002813, avg PSNR: 22.511\n",
      "status: iteration    0, loss: 0.00342 (avg PSNR est: 21.644), tol: 100.000%\n"
     ]
    },
    {
     "name": "stdout",
     "output_type": "stream",
     "text": [
      "status: finished   721  iterations in 0 minutes and 36.10 seconds. tol: 0.000%\n",
      "-- Iteration 19 done, tol: 0.700%, MSE: 0.002793, avg PSNR: 22.543\n",
      "status: iteration    0, loss: 0.00350 (avg PSNR est: 21.547), tol: 100.000%\n",
      "status: finished   867  iterations in 0 minutes and 39.98 seconds. tol: 0.000%\n",
      "-- Iteration 20 done, tol: 0.340%, MSE: 0.002783, avg PSNR: 22.558\n",
      "status: iteration    0, loss: 0.00350 (avg PSNR est: 21.546), tol: 100.000%\n",
      "status: iteration 1000, loss: 0.00349 (avg PSNR est: 21.564), tol: 0.022%\n",
      "status: finished  1381  iterations in 1 minutes and 18.73 seconds. tol: 0.000%\n",
      "-- Iteration 21 done, tol: 0.198%, MSE: 0.002778, avg PSNR: 22.567\n",
      "status: iteration    0, loss: 0.00354 (avg PSNR est: 21.499), tol: 100.000%\n",
      "status: iteration 1000, loss: 0.00351 (avg PSNR est: 21.542), tol: 0.003%\n",
      "status: iteration 2000, loss: 0.00350 (avg PSNR est: 21.553), tol: 0.088%\n",
      "status: iteration 3000, loss: 0.00351 (avg PSNR est: 21.542), tol: 0.021%\n",
      "status: iteration 4000, loss: 0.00351 (avg PSNR est: 21.537), tol: 0.055%\n",
      "status: iteration 5000, loss: 0.00353 (avg PSNR est: 21.508), tol: 0.009%\n",
      "status: iteration 6000, loss: 0.00350 (avg PSNR est: 21.545), tol: 0.022%\n",
      "status: iteration 7000, loss: 0.00351 (avg PSNR est: 21.532), tol: 0.100%\n",
      "status: finished  8000  iterations in 5 minutes and 20.43 seconds. tol: 0.003%\n",
      "-- Iteration 22 done, tol: 0.148%, MSE: 0.002774, avg PSNR: 22.574\n",
      "status: iteration    0, loss: 0.00356 (avg PSNR est: 21.478), tol: 100.000%\n",
      "status: iteration 1000, loss: 0.00351 (avg PSNR est: 21.542), tol: 0.034%\n",
      "status: iteration 2000, loss: 0.00353 (avg PSNR est: 21.514), tol: 0.005%\n",
      "status: iteration 3000, loss: 0.00353 (avg PSNR est: 21.512), tol: 0.003%\n",
      "status: iteration 4000, loss: 0.00354 (avg PSNR est: 21.498), tol: 0.013%\n",
      "status: finished  4329  iterations in 4 minutes and 38.04 seconds. tol: 0.000%\n",
      "-- Iteration 23 done, tol: 0.280%, MSE: 0.002782, avg PSNR: 22.560\n",
      "status: iteration    0, loss: 0.00351 (avg PSNR est: 21.539), tol: 100.000%\n",
      "status: finished   722  iterations in 0 minutes and 42.56 seconds. tol: 0.000%\n",
      "-- Iteration 24 done, tol: 1.392%, MSE: 0.002820, avg PSNR: 22.500\n",
      "status: iteration    0, loss: 0.00352 (avg PSNR est: 21.526), tol: 100.000%\n",
      "status: iteration 1000, loss: 0.00347 (avg PSNR est: 21.582), tol: 0.008%\n",
      "status: finished  1061  iterations in 0 minutes and 58.21 seconds. tol: 0.000%\n",
      "-- Iteration 25 done, tol: 1.475%, MSE: 0.002779, avg PSNR: 22.565\n",
      "status: iteration    0, loss: 0.00350 (avg PSNR est: 21.549), tol: 100.000%\n",
      "status: finished   761  iterations in 0 minutes and 52.42 seconds. tol: 0.000%\n",
      "-- Iteration 26 done, tol: 0.365%, MSE: 0.002789, avg PSNR: 22.550\n",
      "status: iteration    0, loss: 0.00348 (avg PSNR est: 21.576), tol: 100.000%\n",
      "status: iteration 1000, loss: 0.00345 (avg PSNR est: 21.615), tol: 0.013%\n",
      "status: iteration 2000, loss: 0.00345 (avg PSNR est: 21.614), tol: 0.026%\n",
      "status: iteration 3000, loss: 0.00346 (avg PSNR est: 21.599), tol: 0.066%\n",
      "status: iteration 4000, loss: 0.00345 (avg PSNR est: 21.609), tol: 0.001%\n",
      "status: finished  4204  iterations in 4 minutes and 43.98 seconds. tol: 0.000%\n",
      "-- Iteration 27 done, tol: 0.437%, MSE: 0.002777, avg PSNR: 22.569\n",
      "status: iteration    0, loss: 0.00351 (avg PSNR est: 21.541), tol: 100.000%\n",
      "status: iteration 1000, loss: 0.00347 (avg PSNR est: 21.585), tol: 0.036%\n",
      "status: finished  1923  iterations in 2 minutes and 12.72 seconds. tol: 0.000%\n",
      "-- Iteration 28 done, tol: 1.105%, MSE: 0.002807, avg PSNR: 22.520\n",
      "status: iteration    0, loss: 0.00351 (avg PSNR est: 21.534), tol: 100.000%\n",
      "status: iteration 1000, loss: 0.00348 (avg PSNR est: 21.570), tol: 0.005%\n",
      "status: finished  1421  iterations in 1 minutes and 38.00 seconds. tol: 0.000%\n",
      "-- Iteration 29 done, tol: 0.388%, MSE: 0.002796, avg PSNR: 22.539\n",
      "status: iteration    0, loss: 0.00364 (avg PSNR est: 21.382), tol: 100.000%\n",
      "status: iteration 1000, loss: 0.00359 (avg PSNR est: 21.433), tol: 0.012%\n",
      "status: iteration 2000, loss: 0.00362 (avg PSNR est: 21.397), tol: 0.006%\n",
      "status: iteration 3000, loss: 0.00360 (avg PSNR est: 21.423), tol: 0.021%\n",
      "status: iteration 4000, loss: 0.00362 (avg PSNR est: 21.406), tol: 0.017%\n",
      "status: iteration 5000, loss: 0.00358 (avg PSNR est: 21.450), tol: 0.051%\n",
      "status: iteration 6000, loss: 0.00361 (avg PSNR est: 21.420), tol: 0.016%\n",
      "status: iteration 7000, loss: 0.00361 (avg PSNR est: 21.418), tol: 0.036%\n",
      "status: finished  7614  iterations in 8 minutes and 41.64 seconds. tol: 0.000%\n",
      "-- Iteration 30 done, tol: 0.410%, MSE: 0.002785, avg PSNR: 22.555\n",
      "status: iteration    0, loss: 0.00347 (avg PSNR est: 21.583), tol: 100.000%\n",
      "status: iteration 1000, loss: 0.00344 (avg PSNR est: 21.619), tol: 0.018%\n",
      "status: finished  1293  iterations in 1 minutes and 20.89 seconds. tol: 0.000%\n",
      "-- Iteration 31 done, tol: 0.552%, MSE: 0.002800, avg PSNR: 22.531\n",
      "status: iteration    0, loss: 0.00346 (avg PSNR est: 21.599), tol: 100.000%\n",
      "status: iteration 1000, loss: 0.00342 (avg PSNR est: 21.654), tol: 0.001%\n",
      "status: finished  1094  iterations in 1 minutes and 11.13 seconds. tol: 0.000%\n",
      "-- Iteration 32 done, tol: 0.329%, MSE: 0.002791, avg PSNR: 22.545\n",
      "status: iteration    0, loss: 0.00347 (avg PSNR est: 21.591), tol: 100.000%\n",
      "status: iteration 1000, loss: 0.00343 (avg PSNR est: 21.633), tol: 0.006%\n",
      "status: iteration 2000, loss: 0.00344 (avg PSNR est: 21.626), tol: 0.026%\n",
      "status: finished  2801  iterations in 3 minutes and 13.17 seconds. tol: 0.000%\n",
      "-- Iteration 33 done, tol: 0.185%, MSE: 0.002786, avg PSNR: 22.554\n",
      "status: iteration    0, loss: 0.00352 (avg PSNR est: 21.527), tol: 100.000%\n",
      "status: iteration 1000, loss: 0.00349 (avg PSNR est: 21.566), tol: 0.016%\n",
      "status: iteration 2000, loss: 0.00349 (avg PSNR est: 21.566), tol: 0.081%\n",
      "status: iteration 3000, loss: 0.00350 (avg PSNR est: 21.546), tol: 0.013%\n",
      "status: finished  3551  iterations in 4 minutes and 4.67 seconds. tol: 0.000%\n",
      "-- Iteration 34 done, tol: 0.212%, MSE: 0.002792, avg PSNR: 22.546\n",
      "status: iteration    0, loss: 0.00358 (avg PSNR est: 21.449), tol: 100.000%\n",
      "status: iteration 1000, loss: 0.00355 (avg PSNR est: 21.487), tol: 0.005%\n",
      "status: iteration 2000, loss: 0.00355 (avg PSNR est: 21.490), tol: 0.002%\n",
      "status: iteration 3000, loss: 0.00355 (avg PSNR est: 21.493), tol: 0.074%\n",
      "status: finished  3162  iterations in 3 minutes and 33.66 seconds. tol: 0.000%\n",
      "-- Iteration 35 done, tol: 0.279%, MSE: 0.002800, avg PSNR: 22.534\n",
      "status: iteration    0, loss: 0.00361 (avg PSNR est: 21.418), tol: 100.000%\n",
      "status: iteration 1000, loss: 0.00355 (avg PSNR est: 21.485), tol: 0.028%\n",
      "status: iteration 2000, loss: 0.00356 (avg PSNR est: 21.477), tol: 0.101%\n",
      "status: iteration 3000, loss: 0.00358 (avg PSNR est: 21.448), tol: 0.021%\n",
      "status: iteration 4000, loss: 0.00361 (avg PSNR est: 21.417), tol: 0.117%\n",
      "status: iteration 5000, loss: 0.00358 (avg PSNR est: 21.457), tol: 0.019%\n",
      "status: finished  5159  iterations in 5 minutes and 33.95 seconds. tol: 0.000%\n",
      "-- Iteration 36 done, tol: 0.391%, MSE: 0.002789, avg PSNR: 22.550\n",
      "status: iteration    0, loss: 0.00352 (avg PSNR est: 21.520), tol: 100.000%\n",
      "status: iteration 1000, loss: 0.00353 (avg PSNR est: 21.508), tol: 0.064%\n",
      "status: iteration 2000, loss: 0.00349 (avg PSNR est: 21.563), tol: 0.019%\n",
      "status: iteration 3000, loss: 0.00350 (avg PSNR est: 21.550), tol: 0.028%\n",
      "status: iteration 4000, loss: 0.00351 (avg PSNR est: 21.539), tol: 0.061%\n",
      "status: iteration 5000, loss: 0.00349 (avg PSNR est: 21.564), tol: 0.037%\n",
      "status: finished  5976  iterations in 6 minutes and 40.93 seconds. tol: 0.000%\n",
      "-- Iteration 37 done, tol: 0.162%, MSE: 0.002793, avg PSNR: 22.542\n",
      "status: iteration    0, loss: 0.00351 (avg PSNR est: 21.533), tol: 100.000%\n",
      "status: iteration 1000, loss: 0.00348 (avg PSNR est: 21.579), tol: 0.091%\n",
      "status: iteration 2000, loss: 0.00348 (avg PSNR est: 21.576), tol: 0.133%\n",
      "status: iteration 3000, loss: 0.00347 (avg PSNR est: 21.591), tol: 0.075%\n",
      "status: iteration 4000, loss: 0.00347 (avg PSNR est: 21.582), tol: 0.026%\n",
      "status: iteration 5000, loss: 0.00345 (avg PSNR est: 21.616), tol: 0.345%\n",
      "status: iteration 6000, loss: 0.00348 (avg PSNR est: 21.577), tol: 0.007%\n",
      "status: finished  6036  iterations in 6 minutes and 53.86 seconds. tol: 0.000%\n",
      "-- Iteration 38 done, tol: 0.598%, MSE: 0.002777, avg PSNR: 22.569\n",
      "status: iteration    0, loss: 0.00350 (avg PSNR est: 21.551), tol: 100.000%\n"
     ]
    },
    {
     "name": "stdout",
     "output_type": "stream",
     "text": [
      "status: iteration 1000, loss: 0.00348 (avg PSNR est: 21.576), tol: 0.004%\n",
      "status: iteration 2000, loss: 0.00345 (avg PSNR est: 21.608), tol: 0.077%\n",
      "status: finished  2921  iterations in 3 minutes and 20.03 seconds. tol: 0.000%\n",
      "-- Iteration 39 done, tol: 0.220%, MSE: 0.002783, avg PSNR: 22.558\n",
      "status: iteration    0, loss: 0.00344 (avg PSNR est: 21.619), tol: 100.000%\n",
      "status: iteration 1000, loss: 0.00342 (avg PSNR est: 21.653), tol: 0.038%\n",
      "status: iteration 2000, loss: 0.00343 (avg PSNR est: 21.639), tol: 0.002%\n",
      "status: iteration 3000, loss: 0.00341 (avg PSNR est: 21.667), tol: 0.078%\n",
      "status: iteration 4000, loss: 0.00342 (avg PSNR est: 21.653), tol: 0.006%\n",
      "status: iteration 5000, loss: 0.00342 (avg PSNR est: 21.652), tol: 0.015%\n",
      "status: finished  5511  iterations in 6 minutes and 18.46 seconds. tol: 0.000%\n",
      "-- Iteration 40 done, tol: 0.149%, MSE: 0.002787, avg PSNR: 22.553\n",
      "status: iteration    0, loss: 0.00353 (avg PSNR est: 21.517), tol: 100.000%\n",
      "status: finished   618  iterations in 0 minutes and 42.56 seconds. tol: 0.000%\n",
      "-- Iteration 41 done, tol: 1.145%, MSE: 0.002819, avg PSNR: 22.503\n",
      "status: iteration    0, loss: 0.00343 (avg PSNR est: 21.636), tol: 100.000%\n",
      "status: iteration 1000, loss: 0.00341 (avg PSNR est: 21.661), tol: 0.018%\n",
      "status: iteration 2000, loss: 0.00341 (avg PSNR est: 21.667), tol: 0.002%\n",
      "status: iteration 3000, loss: 0.00342 (avg PSNR est: 21.649), tol: 0.038%\n",
      "status: finished  3190  iterations in 3 minutes and 35.47 seconds. tol: 0.000%\n",
      "-- Iteration 42 done, tol: 1.241%, MSE: 0.002784, avg PSNR: 22.557\n",
      "status: iteration    0, loss: 0.00346 (avg PSNR est: 21.604), tol: 100.000%\n",
      "status: finished   579  iterations in 0 minutes and 39.84 seconds. tol: 0.000%\n",
      "-- Iteration 43 done, tol: 1.541%, MSE: 0.002827, avg PSNR: 22.489\n",
      "status: iteration    0, loss: 0.00345 (avg PSNR est: 21.615), tol: 100.000%\n",
      "status: iteration 1000, loss: 0.00341 (avg PSNR est: 21.659), tol: 0.021%\n",
      "status: iteration 2000, loss: 0.00338 (avg PSNR est: 21.701), tol: 0.042%\n",
      "status: iteration 3000, loss: 0.00343 (avg PSNR est: 21.641), tol: 0.014%\n",
      "status: iteration 4000, loss: 0.00348 (avg PSNR est: 21.571), tol: 0.084%\n",
      "status: iteration 5000, loss: 0.00341 (avg PSNR est: 21.664), tol: 0.041%\n",
      "status: finished  5185  iterations in 5 minutes and 47.75 seconds. tol: 0.000%\n",
      "-- Iteration 44 done, tol: 1.399%, MSE: 0.002787, avg PSNR: 22.552\n",
      "status: iteration    0, loss: 0.00348 (avg PSNR est: 21.574), tol: 100.000%\n",
      "status: iteration 1000, loss: 0.00346 (avg PSNR est: 21.603), tol: 0.026%\n",
      "status: iteration 2000, loss: 0.00344 (avg PSNR est: 21.619), tol: 0.021%\n",
      "status: iteration 3000, loss: 0.00343 (avg PSNR est: 21.639), tol: 0.108%\n",
      "status: iteration 4000, loss: 0.00345 (avg PSNR est: 21.618), tol: 0.054%\n",
      "status: iteration 5000, loss: 0.00345 (avg PSNR est: 21.612), tol: 0.050%\n",
      "status: iteration 6000, loss: 0.00345 (avg PSNR est: 21.616), tol: 0.012%\n",
      "status: iteration 7000, loss: 0.00344 (avg PSNR est: 21.621), tol: 0.016%\n",
      "status: finished  7393  iterations in 8 minutes and 25.32 seconds. tol: 0.000%\n",
      "-- Iteration 45 done, tol: 0.113%, MSE: 0.002784, avg PSNR: 22.557\n",
      "status: iteration    0, loss: 0.00352 (avg PSNR est: 21.522), tol: 100.000%\n",
      "status: iteration 1000, loss: 0.00349 (avg PSNR est: 21.562), tol: 0.027%\n",
      "status: finished  1420  iterations in 1 minutes and 32.93 seconds. tol: 0.000%\n",
      "-- Iteration 46 done, tol: 0.053%, MSE: 0.002782, avg PSNR: 22.560\n",
      "status: iteration    0, loss: 0.00351 (avg PSNR est: 21.535), tol: 100.000%\n",
      "status: finished   320  iterations in 0 minutes and 22.04 seconds. tol: 0.000%\n",
      "-- Iteration 47 done, tol: 4.158%, MSE: 0.002898, avg PSNR: 22.387\n",
      "status: iteration    0, loss: 0.00416 (avg PSNR est: 20.799), tol: 100.000%\n",
      "status: iteration 1000, loss: 0.00407 (avg PSNR est: 20.890), tol: 0.061%\n",
      "status: iteration 2000, loss: 0.00407 (avg PSNR est: 20.899), tol: 0.018%\n",
      "status: iteration 3000, loss: 0.00411 (avg PSNR est: 20.853), tol: 0.099%\n",
      "status: finished  3705  iterations in 3 minutes and 41.19 seconds. tol: 0.000%\n",
      "-- Iteration 48 done, tol: 3.869%, MSE: 0.002786, avg PSNR: 22.555\n",
      "status: iteration    0, loss: 0.00358 (avg PSNR est: 21.451), tol: 100.000%\n",
      "status: finished   457  iterations in 0 minutes and 20.53 seconds. tol: 0.000%\n",
      "-- Iteration 49 done, tol: 1.143%, MSE: 0.002818, avg PSNR: 22.505\n",
      "status: finished  50  iterations in 160 minutes and 43.72 seconds. tol: 1.143%\n"
     ]
    }
   ],
   "source": [
    "batch_small = 200\n",
    "small_samples = Sur.data.Samples(datasetTrain, batch_small, device=device, dtype=dtype)\n",
    "self_samples = Sur.data.Samples(datasetTrain, batch_small, device=device, dtype=dtype)\n",
    "self_samples.x = small_samples.y.clone()\n",
    "self_samples.redraw_noise()\n",
    "\n",
    "energy = energy_setup(model_setup)\n",
    "    \n",
    "training_setup = Sur.training.default_setup('DiscriminativeLearning')\n",
    "\n",
    "subroutine = Sur.training.DiscriminativeLearning(energy, loss, self_samples, training_setup,\n",
    "                                                 algorithm='predictive-primal')\n",
    "iterative_setup = dict(linearizer_iterations=50, extrapolation_choice='n-margin',\n",
    "                       backtracking=False, check_loss=True, verbose=True, tolerance=1e-4, stochastic=False)\n",
    "\n",
    "optimizer =  Sur.training.IterativeLearning(subroutine, iterative_setup)\n",
    "optimizer.run();\n"
   ]
  },
  {
   "cell_type": "code",
   "execution_count": 27,
   "metadata": {},
   "outputs": [
    {
     "name": "stdout",
     "output_type": "stream",
     "text": [
      "21.934726610183716\n",
      "TRAINING | MSE: 0.002786 | avg PSNR for these samples: 22.555,  Time: 00:07 mins\n",
      "TRAINING | MSE: 0.001197 | avg PSNR for these samples: 26.560,  Time: 00:07 mins\n"
     ]
    }
   ],
   "source": [
    "print(Sur.psnr_compute(optimizer.x, small_samples.x))\n",
    "img_denoised, _ = Sur.training_error(energy, loss, self_samples);\n",
    "img_denoised, _ = Sur.training_error(energy, loss, small_samples);"
   ]
  },
  {
   "cell_type": "code",
   "execution_count": 28,
   "metadata": {},
   "outputs": [
    {
     "name": "stdout",
     "output_type": "stream",
     "text": [
      "Dictionary norm is 1.446.\n"
     ]
    },
    {
     "data": {
      "image/png": "[encoded data removed]",
      "text/plain": [
       "<Figure size 1440x720 with 49 Axes>"
      ]
     },
     "metadata": {
      "needs_background": "light"
     },
     "output_type": "display_data"
    }
   ],
   "source": [
    "Sur.visualize(energy.operator)"
   ]
  },
  {
   "cell_type": "code",
   "execution_count": 29,
   "metadata": {},
   "outputs": [
    {
     "data": {
      "image/png": "[encoded data removed]",
      "text/plain": [
       "<Figure size 1440x720 with 3 Axes>"
      ]
     },
     "metadata": {
      "needs_background": "light"
     },
     "output_type": "display_data"
    }
   ],
   "source": [
    "fig, axes = plt.subplots(1,3,figsize=(20, 10))\n",
    "axes[0].imshow(self_samples.x[0,:,:,].permute(1, 2, 0).cpu().numpy().squeeze(), cmap='gray')\n",
    "axes[1].imshow(self_samples.y[0,:,:,].permute(1, 2, 0).cpu().numpy().squeeze(), cmap='gray')\n",
    "axes[2].imshow(img_denoised[0,:,:,:].permute(1, 2, 0).cpu().numpy().squeeze(), cmap='gray')\n",
    "fig.canvas.draw()"
   ]
  },
  {
   "cell_type": "code",
   "execution_count": 30,
   "metadata": {},
   "outputs": [
    {
     "name": "stdout",
     "output_type": "stream",
     "text": [
      "TESTING | MSE: 0.001272 | avg PSNR for the given testset: 26.311, Time: 00:05 mins---\n",
      "TESTING | MSE: 0.001159 | avg PSNR for the given testset: 26.571, Time: 01:24 mins---\n",
      "TESTING | MSE: 0.000970 | avg PSNR for the given testset: 27.664, Time: 02:46 mins---\n"
     ]
    }
   ],
   "source": [
    "_, _ = Sur.testing_error(energy, loss, datasetTest);\n",
    "_, _ = Sur.testing_error(energy, loss, datasetTestFull);\n",
    "_, _ = Sur.test_twice_error(energy, loss, datasetTestFull);"
   ]
  },
  {
   "cell_type": "markdown",
   "metadata": {},
   "source": [
    "# Plotting"
   ]
  },
  {
   "cell_type": "markdown",
   "metadata": {},
   "source": [
    "## save filters to pdf:"
   ]
  },
  {
   "cell_type": "code",
   "execution_count": null,
   "metadata": {},
   "outputs": [],
   "source": [
    "# fig.savefig(\"filters_168_13_13.pdf\", bbox_inches='tight', dpi=1200)"
   ]
  }
 ],
 "metadata": {
  "kernelspec": {
   "display_name": "Python 3",
   "language": "python",
   "name": "python3"
  },
  "language_info": {
   "codemirror_mode": {
    "name": "ipython",
    "version": 3
   },
   "file_extension": ".py",
   "mimetype": "text/x-python",
   "name": "python",
   "nbconvert_exporter": "python",
   "pygments_lexer": "ipython3",
   "version": "3.7.3"
  }
 },
 "nbformat": 4,
 "nbformat_minor": 2
}
